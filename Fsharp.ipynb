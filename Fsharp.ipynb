{
 "cells": [
  {
   "cell_type": "code",
   "execution_count": 1,
   "metadata": {
    "dotnet_interactive": {
     "language": "fsharp"
    },
    "polyglot_notebook": {
     "kernelName": "fsharp"
    },
    "vscode": {
     "languageId": "polyglot-notebook"
    }
   },
   "outputs": [
    {
     "data": {
      "text/html": [
       "<div><div></div><div></div><div><strong>Installed Packages</strong><ul><li><span>PureHDF, 1.0.0-alpha.25</span></li><li><span>TorchSharp-cuda-windows, 0.100.3</span></li></ul></div></div>"
      ]
     },
     "metadata": {},
     "output_type": "display_data"
    },
    {
     "data": {
      "text/plain": [
       "Loading extensions from `C:\\Users\\user\\.nuget\\packages\\skiasharp\\2.88.3\\interactive-extensions\\dotnet\\SkiaSharp.DotNet.Interactive.dll`"
      ]
     },
     "metadata": {},
     "output_type": "display_data"
    }
   ],
   "source": [
    "#r \"nuget: TorchSharp-cuda-windows, 0.100.3\"\n",
    "#r \"nuget: PureHDF, 1.0.0-alpha.25\"\n",
    "\n",
    "open TorchSharp\n",
    "open PureHDF\n",
    "\n",
    "open type TorchSharp.torch\n",
    "open type TorchSharp.torch.nn\n",
    "open type TorchSharp.torch.nn.functional\n",
    "open type TorchSharp.TensorExtensionMethods\n",
    "open type TorchSharp.torch.utils.data"
   ]
  },
  {
   "cell_type": "code",
   "execution_count": 2,
   "metadata": {
    "dotnet_interactive": {
     "language": "fsharp"
    },
    "polyglot_notebook": {
     "kernelName": "fsharp"
    },
    "vscode": {
     "languageId": "polyglot-notebook"
    }
   },
   "outputs": [
    {
     "data": {
      "text/html": [
       "<div><div></div><div></div><div><strong>Installed Packages</strong><ul><li><span>PureHDF, 1.0.0-alpha.25</span></li><li><span>skiasharp, 2.88.3</span></li><li><span>TorchSharp-cuda-windows, 0.100.3</span></li><li><span>TorchVision, 0.100.3</span></li></ul></div></div>"
      ]
     },
     "metadata": {},
     "output_type": "display_data"
    },
    {
     "data": {
      "text/html": [
       "<div class=\"dni-plaintext\"><pre>True</pre></div><style>\r\n",
       ".dni-code-hint {\r\n",
       "    font-style: italic;\r\n",
       "    overflow: hidden;\r\n",
       "    white-space: nowrap;\r\n",
       "}\r\n",
       ".dni-treeview {\r\n",
       "    white-space: nowrap;\r\n",
       "}\r\n",
       ".dni-treeview td {\r\n",
       "    vertical-align: top;\r\n",
       "    text-align: start;\r\n",
       "}\r\n",
       "details.dni-treeview {\r\n",
       "    padding-left: 1em;\r\n",
       "}\r\n",
       "table td {\r\n",
       "    text-align: start;\r\n",
       "}\r\n",
       "table tr { \r\n",
       "    vertical-align: top; \r\n",
       "    margin: 0em 0px;\r\n",
       "}\r\n",
       "table tr td pre \r\n",
       "{ \r\n",
       "    vertical-align: top !important; \r\n",
       "    margin: 0em 0px !important;\r\n",
       "} \r\n",
       "table th {\r\n",
       "    text-align: start;\r\n",
       "}\r\n",
       "</style>"
      ]
     },
     "metadata": {},
     "output_type": "display_data"
    }
   ],
   "source": [
    "#!import \"diffusion_utilities.fsx\"\n",
    "\n",
    "torch.cuda.is_available()"
   ]
  },
  {
   "cell_type": "code",
   "execution_count": 3,
   "metadata": {
    "dotnet_interactive": {
     "language": "fsharp"
    },
    "polyglot_notebook": {
     "kernelName": "fsharp"
    },
    "vscode": {
     "languageId": "polyglot-notebook"
    }
   },
   "outputs": [],
   "source": [
    "type ContextUnet (in_channels, n_feat, n_cfeat, height, t_device) as this =\n",
    "    inherit nn.Module<torch.Tensor * torch.Tensor * Option<torch.Tensor>,Tensor>(\"ContextUnet\")  \n",
    "     \n",
    "    let h = height  // assume h == w. must be divisible by 4, so 28,24,20,16...\n",
    "\n",
    "    // Initialize the initial convolutional layer\n",
    "    let init_conv = new ResidualConvBlock(in_channels, n_feat, true, t_device)\n",
    "\n",
    "    // Initialize the down-sampling path of the U-Net with two levels\n",
    "    let down1 = new UnetDown(n_feat, n_feat, t_device)        //# down1 #[10, 256, 8, 8]\n",
    "    let down2 = new UnetDown(n_feat, 2L * n_feat, t_device)    //# down2 #[10, 256, 4,  4]\n",
    "    \n",
    "    // original: self.to_vec = nn.Sequential(nn.AvgPool2d(7), nn.GELU())\n",
    "    let to_vec = nn.Sequential([| \n",
    "        nn.AvgPool2d(4) :> nn.Module<_,_>\n",
    "        nn.GELU() \n",
    "    |])\n",
    "\n",
    "    // Embed the timestep and context labels with a one-layer fully connected neural network\n",
    "    let timeembed1 = new EmbedFC(1, 2L*n_feat, t_device)\n",
    "    let timeembed2 = new EmbedFC(1, 1L*n_feat, t_device)\n",
    "    let contextembed1 = new EmbedFC(n_cfeat, 2L*n_feat, t_device)\n",
    "    let contextembed2 = new EmbedFC(n_cfeat, 1L*n_feat, t_device)\n",
    "\n",
    "    // Initialize the up-sampling path of the U-Net with three levels\n",
    "    let up0 = nn.Sequential([|\n",
    "        nn.ConvTranspose2d(2L * n_feat, 2L * n_feat, h/4L, h/4L, device = t_device) :> nn.Module<_,_> // up-sample  \n",
    "        nn.GroupNorm(8L, 2L * n_feat, device = t_device) // normalize                       \n",
    "        nn.ReLU()\n",
    "    |])\n",
    "    let up1 = new UnetUp(4L * n_feat, n_feat, t_device)\n",
    "    let up2 = new UnetUp(2L * n_feat, n_feat, t_device)\n",
    "\n",
    "    // Initialize the final convolutional layers to map to the same number of channels as the input image\n",
    "    let out = nn.Sequential([|\n",
    "        nn.Conv2d(2L * n_feat, n_feat, 3, 1, 1, device = t_device) :> nn.Module<_,_> // reduce number of feature maps   #in_channels, out_channels, kernel_size, stride=1, padding=0\n",
    "        nn.GroupNorm(8L, n_feat, device = t_device) // normalize\n",
    "        nn.ReLU()\n",
    "        nn.Conv2d(n_feat, in_channels, 3, 1, 1, device = t_device) // map to same number of channels as input\n",
    "    |])\n",
    "    do this.RegisterComponents()\n",
    "\n",
    "    override _.forward((x, t, c)) =\n",
    "        (*\n",
    "        x : (batch, n_feat, h, w) : input image\n",
    "        t : (batch, n_cfeat)      : time step\n",
    "        c : (batch, n_classes)    : context label\n",
    "        *)\n",
    "        // x is the input image, c is the context label, t is the timestep, context_mask says which samples to block the context on\n",
    "\n",
    "        // pass the input image through the initial convolutional layer\n",
    "        let x = init_conv.forward(x)\n",
    "        // pass the result through the down-sampling path\n",
    "        let down1 = down1.forward(x)       //[10, 256, 8, 8]\n",
    "        let down2 = down2.forward(down1)   //[10, 256, 4, 4]\n",
    "        \n",
    "\n",
    "        // convert the feature maps to a vector and apply an activation\n",
    "        let hiddenvec = to_vec.forward(down2)\n",
    "        \n",
    "        // mask out context if context_mask == 1\n",
    "        let c = \n",
    "            match c with\n",
    "            | None -> torch.zeros(x.shape[0], n_cfeat).``to``(x)\n",
    "            | Some x -> x\n",
    "        \n",
    "        // embed context and timestep\n",
    "        let cemb1 = contextembed1.forward(c).view(-1, n_feat * 2L, 1, 1L)     // (batch, 2*n_feat, 1,1)\n",
    "        let temb1 = timeembed1.forward(t).view(-1, n_feat * 2L, 1, 1)\n",
    "        let cemb2 = contextembed2.forward(c).view(-1, n_feat, 1, 1)\n",
    "        let temb2 = timeembed2.forward(t).view(-1, n_feat, 1, 1)\n",
    "            \n",
    "        // printfn \"uunet forward: cemb1 %A. temb1 %A, cemb2 %A temb2 %A hidden %A\" cemb1.shape temb1.shape cemb2.shape temb2.shape hiddenvec.shape\n",
    "        \n",
    "        let _up1 = up0.forward(hiddenvec)\n",
    "        let _up2 = up1.forward([|cemb1*_up1 + temb1; down2|])  // add and multiply embeddings\n",
    "        let _up3 = up2.forward([|cemb2*_up2 + temb2; down1|])\n",
    "        let _out = out.forward(torch.cat([|_up3; x|], 1))\n",
    "        // do Console.WriteLine($\"_out {_out.ToDisplayString()}\")\n",
    "        _out\n",
    "\n",
    "    "
   ]
  },
  {
   "cell_type": "code",
   "execution_count": 4,
   "metadata": {
    "dotnet_interactive": {
     "language": "fsharp"
    },
    "polyglot_notebook": {
     "kernelName": "fsharp"
    },
    "vscode": {
     "languageId": "polyglot-notebook"
    }
   },
   "outputs": [],
   "source": [
    "// hyperparameters\n",
    "\n",
    "// diffusion hyperparameters\n",
    "let timesteps = 500L\n",
    "let beta1 = 1e-4\n",
    "let beta2 = 0.02\n",
    "\n",
    "// network hyperparameters\n",
    "let t_device = torch.device(\"cpu\") //if torch.cuda.is_available() then torch.device(\"cuda:0\") else torch.device(\"cpu\")\n",
    "let n_feat = 64 // 64 hidden dimension feature\n",
    "let n_cfeat = 5 // context vector is of size 5\n",
    "let height = 16 // 16x16 image\n",
    "let save_dir = \"./weights2/\"\n",
    "\n",
    "// training hyperparameters\n",
    "let batch_size = 100\n",
    "let n_epoch = 3\n",
    "let lrate= 1e-3"
   ]
  },
  {
   "cell_type": "code",
   "execution_count": 5,
   "metadata": {
    "dotnet_interactive": {
     "language": "fsharp"
    },
    "polyglot_notebook": {
     "kernelName": "fsharp"
    },
    "vscode": {
     "languageId": "polyglot-notebook"
    }
   },
   "outputs": [],
   "source": [
    "// construct DDPM noise schedule\n",
    "let b_t = (beta2 - beta1).ToTensor(t_device) * torch.linspace(0, 1, timesteps + 1L, device=t_device) + beta1.ToTensor(t_device)\n",
    "let a_t = 1L.ToTensor(t_device) - b_t\n",
    "let ab_t = torch.cumsum(a_t.log(), dim=0).exp()    \n",
    "ab_t[0] <- 1L"
   ]
  },
  {
   "attachments": {},
   "cell_type": "markdown",
   "metadata": {},
   "source": [
    "# Training"
   ]
  },
  {
   "cell_type": "code",
   "execution_count": 7,
   "metadata": {
    "dotnet_interactive": {
     "language": "fsharp"
    },
    "polyglot_notebook": {
     "kernelName": "fsharp"
    },
    "vscode": {
     "languageId": "polyglot-notebook"
    }
   },
   "outputs": [
    {
     "name": "stdout",
     "output_type": "stream",
     "text": [
      "sprite shape: [|89400UL; 16UL; 16UL; 3UL|]\n",
      "labels shape: [|89400UL; 5UL|]\n"
     ]
    }
   ],
   "source": [
    "let dataset = new CustomDataset(\"sprites.hdf5\", \"slabels.hdf5\", Utilities.transform t_device, false, t_device)"
   ]
  },
  {
   "cell_type": "code",
   "execution_count": 8,
   "metadata": {
    "dotnet_interactive": {
     "language": "fsharp"
    },
    "polyglot_notebook": {
     "kernelName": "fsharp"
    },
    "vscode": {
     "languageId": "polyglot-notebook"
    }
   },
   "outputs": [],
   "source": [
    "// helper function: perturbs an image to a specified noise level\n",
    "let perturb_input(x: Tensor, t: Tensor, noise) =\n",
    "    ab_t.sqrt()[TensorIndex.Tensor(t), TensorIndex.None, TensorIndex.None, TensorIndex.None] * x + (1.0.ToTensor(t_device) - ab_t[TensorIndex.Tensor(t), TensorIndex.None, TensorIndex.None, TensorIndex.None]) * noise"
   ]
  },
  {
   "cell_type": "code",
   "execution_count": 9,
   "metadata": {
    "dotnet_interactive": {
     "language": "fsharp"
    },
    "polyglot_notebook": {
     "kernelName": "fsharp"
    },
    "vscode": {
     "languageId": "polyglot-notebook"
    }
   },
   "outputs": [],
   "source": [
    "torch.manual_seed(0L)\n",
    "let nn_model = (new ContextUnet(3, n_feat, n_cfeat, height, t_device) :> Module<_,_>).``to``(t_device)\n",
    "let dataloader = new DataLoader(dataset, batch_size, false, t_device)\n",
    "let optim = torch.optim.Adam(nn_model.parameters(), lr=lrate)"
   ]
  },
  {
   "cell_type": "code",
   "execution_count": 10,
   "metadata": {
    "dotnet_interactive": {
     "language": "fsharp"
    },
    "polyglot_notebook": {
     "kernelName": "fsharp"
    },
    "vscode": {
     "languageId": "polyglot-notebook"
    }
   },
   "outputs": [
    {
     "name": "stdout",
     "output_type": "stream",
     "text": [
      "epoch 0\n",
      "lr 0.001\n",
      "loss 1.1516587\n",
      "loss 0.49275035\n",
      "loss 0.42482617\n",
      "loss 0.4150703\n",
      "loss 0.39410642\n",
      "loss 0.31423897\n",
      "loss 0.38174823\n",
      "loss 0.33996513\n",
      "loss 0.32381845\n",
      "loss 0.26814467\n",
      "loss 0.40648398\n",
      "loss 0.32247278\n",
      "loss 0.40715265\n",
      "loss 0.3345041\n",
      "loss 0.3135045\n",
      "loss 0.36598307\n",
      "loss 0.28845844\n",
      "loss 0.2604357\n",
      "loss 0.2589876\n",
      "loss 0.36091205\n",
      "loss 0.24572818\n",
      "loss 0.22749497\n",
      "loss 0.27715063\n",
      "loss 0.25526226\n",
      "loss 0.3018033\n",
      "loss 0.23833974\n",
      "loss 0.24979879\n",
      "loss 0.2835819\n",
      "loss 0.2343188\n",
      "loss 0.22918144\n",
      "loss 0.21802442\n",
      "loss 0.21870697\n",
      "loss 0.2693776\n",
      "loss 0.24684921\n",
      "loss 0.22930387\n",
      "loss 0.23147143\n",
      "loss 0.2918083\n",
      "loss 0.22675735\n",
      "loss 0.23769094\n",
      "loss 0.2350949\n",
      "loss 0.27474627\n",
      "loss 0.27210006\n",
      "loss 0.18896739\n",
      "loss 0.2444887\n",
      "loss 0.25708985\n",
      "saved model at ./weights2/model_0.pth\n",
      "epoch 1\n",
      "lr 0.0006666666666666668\n",
      "loss 0.24137461\n",
      "loss 0.21225843\n",
      "loss 0.24573258\n",
      "loss 0.2185557\n",
      "loss 0.23543416\n",
      "loss 0.18413024\n",
      "loss 0.2662818\n",
      "loss 0.2197376\n",
      "loss 0.20167543\n",
      "loss 0.163561\n",
      "loss 0.31594154\n",
      "loss 0.22156042\n",
      "loss 0.28816274\n",
      "loss 0.22157344\n",
      "loss 0.24886812\n",
      "loss 0.27539462\n",
      "loss 0.2043939\n",
      "loss 0.20322686\n",
      "loss 0.215666\n",
      "loss 0.30145216\n",
      "loss 0.17503196\n",
      "loss 0.17501724\n",
      "loss 0.21869725\n",
      "loss 0.21616234\n",
      "loss 0.23724718\n",
      "loss 0.18276149\n",
      "loss 0.1973839\n",
      "loss 0.24072988\n",
      "loss 0.17824\n",
      "loss 0.16834687\n",
      "loss 0.1757259\n",
      "loss 0.18783712\n",
      "loss 0.20787704\n",
      "loss 0.20368952\n",
      "loss 0.18765363\n",
      "loss 0.19743542\n",
      "loss 0.2530454\n",
      "loss 0.17873739\n",
      "loss 0.20898913\n",
      "loss 0.20986138\n",
      "loss 0.23783879\n",
      "loss 0.22830196\n",
      "loss 0.15300585\n",
      "loss 0.20761684\n",
      "loss 0.23285931\n",
      "epoch 2\n",
      "lr 0.0003333333333333334\n",
      "loss 0.2126761\n",
      "loss 0.18511628\n",
      "loss 0.21795942\n",
      "loss 0.1850315\n",
      "loss 0.20372722\n",
      "loss 0.15768123\n",
      "loss 0.23874323\n",
      "loss 0.18627113\n",
      "loss 0.16391926\n",
      "loss 0.14173728\n",
      "loss 0.2844636\n",
      "loss 0.18840392\n",
      "loss 0.24927974\n",
      "loss 0.19029412\n",
      "loss 0.229914\n",
      "loss 0.24724513\n",
      "loss 0.17767234\n",
      "loss 0.18333311\n",
      "loss 0.20097393\n",
      "loss 0.27589974\n",
      "loss 0.1513926\n",
      "loss 0.1562369\n",
      "loss 0.19834739\n",
      "loss 0.20356593\n",
      "loss 0.20974998\n",
      "loss 0.15732166\n",
      "loss 0.17626934\n",
      "loss 0.22373775\n",
      "loss 0.15707357\n",
      "loss 0.14618637\n",
      "loss 0.16014077\n",
      "loss 0.17495322\n",
      "loss 0.17784917\n",
      "loss 0.17996839\n",
      "loss 0.16454974\n",
      "loss 0.18666221\n",
      "loss 0.23537402\n",
      "loss 0.15697081\n",
      "loss 0.18514352\n",
      "loss 0.19963935\n",
      "loss 0.22296397\n",
      "loss 0.2059624\n",
      "loss 0.13463044\n",
      "loss 0.18960153\n",
      "loss 0.22153005\n",
      "saved model at ./weights2/model_2.pth\n"
     ]
    }
   ],
   "source": [
    "// training without context code\n",
    "// set into train mode\n",
    "\n",
    "nn_model.train()\n",
    "\n",
    "for ep in 0..2 do\n",
    "    Console.WriteLine($\"epoch {ep}\")\n",
    "    \n",
    "    // linearly decay learning rate\n",
    "    let floatNep = Operators.float n_epoch\n",
    "    let floatEp = Operators.float ep\n",
    "    optim.ParamGroups |> Seq.head |> (fun ctrl -> ctrl.LearningRate <- lrate*(1.0-floatEp/floatNep))\n",
    "    Console.WriteLine($\"lr {lrate*(1.0-floatEp/floatNep)}\")\n",
    "    \n",
    "\n",
    "    // TODO:\n",
    "    // pbar = tqdm(dataloader, mininterval=2 )\n",
    "    let mutable x_loss = 1.0f\n",
    "    let dlSeq = \n",
    "        seq {\n",
    "            for batchItem in dataloader do\n",
    "                yield batchItem\n",
    "        } |> Seq.indexed\n",
    "    for i, batchItem in dlSeq do   // x: images\n",
    "        torch.manual_seed(i) |> ignore\n",
    "        use d0 = torch.NewDisposeScope()\n",
    "        optim.zero_grad()\n",
    "        let x = batchItem[\"data\"].``to``(t_device)\n",
    "        //Console.WriteLine($\"x {x.mean().item<single>()} shape %A{x.shape}\")\n",
    "        \n",
    "        // perturb data\n",
    "        let noise = torch.randn_like(x, device = t_device)\n",
    "        let t = torch.randint(1, timesteps + 1L, Size(x.shape[0])).``to``(t_device)\n",
    "\n",
    "        let x_pert = perturb_input(x, t, noise)\n",
    "        \n",
    "        // use network to recover noise\n",
    "        let pred_noise = nn_model.forward((x_pert, t / timesteps.ToTensor(t_device), None))   \n",
    "\n",
    "        // # loss is mean squared error between the predicted and true noise\n",
    "        let loss = mse_loss(pred_noise, noise)\n",
    "        x_loss <- loss.item()\n",
    "        loss.backward()\n",
    "        \n",
    "        optim.step() |> ignore\n",
    "        \n",
    "        if i % 20 = 0 then\n",
    "            Console.WriteLine($\"loss {x_loss}\")\n",
    "\n",
    "    // // save model periodically\n",
    "    if ep%4=0 || ep = n_epoch-1 then\n",
    "        if Directory.Exists(save_dir) |> not then\n",
    "            Directory.CreateDirectory(save_dir) |> ignore\n",
    "        nn_model.save(save_dir + $\"model_{ep}.pth\") |> ignore\n",
    "        Console.WriteLine(\"saved model at \" + save_dir + $\"model_{ep}.pth\")"
   ]
  },
  {
   "attachments": {},
   "cell_type": "markdown",
   "metadata": {},
   "source": [
    "# Sampling"
   ]
  },
  {
   "cell_type": "code",
   "execution_count": 11,
   "metadata": {
    "dotnet_interactive": {
     "language": "fsharp"
    },
    "polyglot_notebook": {
     "kernelName": "fsharp"
    },
    "vscode": {
     "languageId": "polyglot-notebook"
    }
   },
   "outputs": [],
   "source": [
    "// helper function; removes the predicted noise (but adds some noise back in to avoid collapse)\n",
    "let denoise_add_noise(x: Tensor, i: int64, pred_noise: Tensor, z) =\n",
    "    let z = z |> Option.defaultWith (fun () -> torch.randn_like(x))\n",
    "    let noise = b_t.sqrt()[i] * z\n",
    "    let mean = (x - pred_noise * ((1.0.ToTensor(t_device) - a_t[i]) / (1.0.ToTensor(t_device) - ab_t[i]).sqrt())) / a_t[i].sqrt()\n",
    "    mean + noise"
   ]
  },
  {
   "cell_type": "code",
   "execution_count": 12,
   "metadata": {
    "dotnet_interactive": {
     "language": "fsharp"
    },
    "polyglot_notebook": {
     "kernelName": "fsharp"
    },
    "vscode": {
     "languageId": "polyglot-notebook"
    }
   },
   "outputs": [],
   "source": [
    "// sample using standard algorithm\n",
    "let sample_ddpm(n_sample, save_rate: int64) =\n",
    "    use _ = torch.no_grad()\n",
    "    /// x_T ~ N(0, 1), sample initial noise\n",
    "    let mutable samples = torch.randn([|n_sample; 3L; height; height|], device = t_device)\n",
    "\n",
    "    // array to keep track of generated steps for plotting\n",
    "    let intermediate = ResizeArray()\n",
    "    let mutable i = timesteps\n",
    "    \n",
    "    while i > 0 do\n",
    "        //use _ = torch.NewDisposeScope()\n",
    "        Console.Write($\"sampling timestep {i:D3}\\r\")\n",
    "\n",
    "        // reshape time tensor\n",
    "        let t = torch.tensor([|(single i) / (single timesteps)|], dtype = ScalarType.Float32, device = t_device)[TensorIndex.Colon, TensorIndex.None, TensorIndex.None, TensorIndex.None]\n",
    "        \n",
    "        // sample some random noise to inject back in. For i = 1, don't add back in noise\n",
    "        let z = if i > 1 then torch.randn_like(samples) else 0.0.ToTensor(t_device)\n",
    "\n",
    "        let eps = nn_model.forward((samples, t, None))    // predict noise e_(x_t,t)\n",
    "\n",
    "        let updatedSample = denoise_add_noise(samples, i, eps, Some z)\n",
    "        samples <- updatedSample\n",
    "        if i % save_rate =0 || i=timesteps then\n",
    "            let readyToMoveTensor = updatedSample.cpu().MoveToOuterDisposeScope()\n",
    "            intermediate.Add(readyToMoveTensor)\n",
    "        i <- i - 1L\n",
    "\n",
    "    let stacked = stack(intermediate)\n",
    "    (samples, stacked)"
   ]
  },
  {
   "attachments": {},
   "cell_type": "markdown",
   "metadata": {},
   "source": [
    "# View Epoch 0"
   ]
  },
  {
   "cell_type": "code",
   "execution_count": 24,
   "metadata": {
    "dotnet_interactive": {
     "language": "fsharp"
    },
    "polyglot_notebook": {
     "kernelName": "fsharp"
    },
    "vscode": {
     "languageId": "polyglot-notebook"
    }
   },
   "outputs": [
    {
     "name": "stdout",
     "output_type": "stream",
     "text": [
      "Loaded in Model\r\n"
     ]
    }
   ],
   "source": [
    "// load in model weights and set to eval mode\n",
    "nn_model.load($\"{save_dir}/model_0.pth\")\n",
    "nn_model.eval()\n",
    "Console.WriteLine(\"Loaded in Model\")"
   ]
  },
  {
   "cell_type": "code",
   "execution_count": 25,
   "metadata": {
    "dotnet_interactive": {
     "language": "fsharp"
    },
    "polyglot_notebook": {
     "kernelName": "fsharp"
    },
    "vscode": {
     "languageId": "polyglot-notebook"
    }
   },
   "outputs": [
    {
     "name": "stdout",
     "output_type": "stream",
     "text": [
      "sampling timestep 001\r"
     ]
    }
   ],
   "source": [
    "torch.manual_seed(0L)\n",
    "let samples, intermediate_ddpm = sample_ddpm(32L, 20L)"
   ]
  },
  {
   "cell_type": "code",
   "execution_count": 26,
   "metadata": {
    "dotnet_interactive": {
     "language": "fsharp"
    },
    "polyglot_notebook": {
     "kernelName": "fsharp"
    },
    "vscode": {
     "languageId": "polyglot-notebook"
    }
   },
   "outputs": [
    {
     "data": {
      "text/html": [
       "<table><thead><tr><th><i>index</i></th><th>value</th></tr></thead><tbody><tr><td>0</td><td><div><img src=\"data:image/png;base64,iVBORw0KGgoAAAANSUhEUgAAAEAAAABACAYAAACqaXHeAAAABHNCSVQICAgIfAhkiAAABQRJREFUeJztm91PW3UYx89pT9/blQJt4RTarRnQojA2O50xLkpMpmbRzGRmF7vUxPiaXWj0xjsTX5bd+DKj0RijC8ZEr5bgWNwbIUbm2ISWsQlubLWFltLSlrZ0tN7uwz/wuzjnufuc8ys8efp7eZ7v86v82YfvNKX7rGaP34/SQDQCVh0Pg3PGErhaD4CL9jlwR8bG8UoYbHGU+V6iVRUzuJlNgQ1SO9jn3AB7pmtbxmvc9ACIdkC0KeaAggfD9iPgss0Dzha55pU2O9hXvQW2y1nwj4afwHXbSfAj16+Bjc8eAkdnp8FOqQheKS2DTZ4e8O19XrDmZ4AeANEOiDb5/OQPyAOkdQ5wNbvA1XoaHLVyzV2vOcC+pgn8yalV8FB/KzhhmQK/PDMPtrzQC3a6guBcqsDxLSHwUoF5geZngB4A0Q6INsWad+GBw8rcOmXKgVsM28A3ow2weY08+vvf4GbuDPiDs1zTL83yXL84xlokFmdeUgiwdnAWfeB0mZuasbsFrPkZoAdAtAOiTf7vPPOAVZVrLFVaABtKrPd3Wnnub4Rk8I34afBVE/eQvrFZ8OJQG3g0PQ7+aHgnuG3hIXDdTX/WjNwTFCvzEM3PAD0Aoh0QbcqZDeb6PcsZsM9Gza5ez4PNnYxhZsUC7i4/AA72UJNbepS5fnnuX/AbRjf4twmWLo8bt9QeReb+9ygRSiYj9yjNzwA9AKIdEG1y5M1OLKovD32FAV4DlfnVCmuFyhbNz1HhuWtwW8GxIHnSzrwgnJ8Az8WpN4wH94GftlCTHChwj/j2u3PgwedfpH+Sxk0PgGgHRJsSaadu7rQzV/ZI7OUVNqjhhc1+cM7F+l9aoQ6/WDCC986yXr+kUh8wR54Ahy7/DG4NsDZIWAfon4P6hO8uNU3NzwA9AKIdEG1Ks3YYD5Ipamyqm7l4q6sO3rCugQ3JTnB7hDp8IEvdfj3Ac9vd4Pu+KvUI2TsMzvjvgo8dew88qFID/GL8Cv2VNG56AEQ7INrkycRbWIQjX7PePzjM3N7m4n2CjvYOcEXm5w317WBnZRGs2tg7/LO+Am6s8j5CppffWZfMPSadYR4RTjNP+L7C2kPzM0APgGgHRJvirg7hwR7/KHjKzzVzwPMg+I/Er+Bw71Ngxyb1BHOStUVCoYa4u596w7tz34BPz1MD/HTX62BJZe1RtLAW2F3gnqP5GaAHQLQDok1plJnbr5Z3gU1J5tLxEu/kTJiWwAsXLoOfc7F3l68xj/CUeO5PKPRn+fZR8Pt9p8Cfn2Dv8fjxj8GFOzfAsSV+55qfAXoARDsg2pSzv9zEg+bhJ8GlDN/vdYyAPTM8x/f3qmCbYRN8LU0d/9xf3DM807wn6IvtBxdH2GuMBakPvPrK2+DXjp4A+73sPWp+BugBEO2AaJMXJ56BHpBNMtdXQ1vWdBvP6Su1MbA9xfHxdZ77hgX271v62Vv03KEmmBtk7n7yEu8RHpF536DHdhBcMzGPCbewN6n5GaAHQLQDok1ZK8fw4J9gFLwps79+VWHf4IDENbrNzz0gO0/dX93DO0ib1h1gSxfHRxv8+10RruF7VmqC3m7+/9IM8xipnXuM5meAHgDRDog25c5j/C1uaIq9vvUU12QjVAEnLibAUft2cNsO5gH2NH97vFLnOb0u8XeDmTw/73DTn7qPeUD+VhKsyuwreH30V/MzQA+AaAdE2//HXm49QeivYAAAAABJRU5ErkJggg==\"></img></div></td></tr><tr><td>1</td><td><div><img src=\"data:image/png;base64,iVBORw0KGgoAAAANSUhEUgAAAEAAAABACAYAAACqaXHeAAAABHNCSVQICAgIfAhkiAAABP1JREFUeJztm8lvG2UUwGfsscd74ixNHDttszcJKIQWDiwqqhBSLaFGBSEFCSEEQlRCFQjEhYobi4TEreIAtCrkhtiqClRCUCEUkZaWQ3CSJq3SJLZlp63XxPZMxhmu/PwPfIeZd/uNxzMvL99731s+yzOX5kzp/5Ilpuemwcqxg+Dmeh0cCsfAI7EAeHU9D97xu/m8P9LgfL8CNnM62B9sBztlvi/p5d9TNe6CHZLFxTaAaAVEi6K6t3HBOxIGX75eBbdlVsHhyhC4KbIFTs3TB/0hJ3jz3i54p8sFdpV4f6VZ5f1yEbxd5fudmgze22WALb8CbAOIVkC0KGrxDi7oAfpg/Mn7wVcN7vthrQR2FPrBRXUH7Dbp8+pOBWw42sAFzy3qZ3aDfR7qk5WZV+zpYAyYlzTqK1lcbAOIVkC0KH5vHy4YW/TRnLcDPJT+B6x30Od3Q9yHIzr37UKFMSZkNIPPJhPgFzq7wImBCLiWZW2x20L9yzr3/Va1CWz5FWAbQLQCokVZrzNX10vM/WNX58DJyXHwfTdpQ8PLfdZdrYFzIcaAmanTYPOhYfA7n33J778xCD407QVPvDQBdiWpjyvGPMPyK8A2gGgFRIviDrHH5smzH/Dtv7fBRzLHweU2+lihxDygSSqA/dud4EdOTIJ/XOHzej85Aj486wevjTOG5cpAqcfDmKbkmDdYfgXYBhCtgGhRgjX6lK7RZy8/OAUevcLcv2WQ/YKol/W45mctkCnRB9tb9oKf7eP7vSXW++/+eR08FKM+5Qh9Pu9eAzuNHrDlV4BtANEKiBb560sXsZGev3ARN/TfagHHJx7mE3ysr5WeZfC2gz6nKg1zgHuc1bWbDTGpIXf/tSHP6Jlj3pA5xFlhxUiBmxUf2PIrwDaAaAVEi1L4ewEX4rsnwafcX4Bzy5wDHB2kD8pF+qAaYR5Qv8EYoEf5eXeG/5PMyia4S2U/oXaQ/YARlhrSz/oKeFhtBVt+BdgGEK2AaJFXv/8UecAVpwc3ZFI885NNcl7/xChz99Yx9vErJc4eHRKfv9zCM0HdecaQssa5hDHO8wz1RBJc3WB/IzqwD7xlLDboY3GxDSBaAdGirAc5G4y6mCufePow+OSbcXAx9Ap4cWkJLGvcmPu6aPNfFm6AYxXOBiOlMfCx7ufA3/zVC06NPAPudDKGxEzmHZZfAbYBRCsgWpSwwXrbbDg3+PK5z8FljfX7gL8ht06yJ6gOs28fTPP+BxbZw3tenwWfl2+Cb7cFwYPDr4MLW4xB12rsV8QHeWbI8ivANoBoBUSLYjYxF3f56COPj9MHv3t/HpzpPQDe38taoaDxjI6voV5/Subs770PvwI7Tr0KHjrDGOL1MU842sm8YC3HGGSmWdtYfgXYBhCtgGiRZy7Mwkn29bDnl8vyC6kCY0a9nTHjQIizupqzIffW2fevS8wbOtO/gV8MnAG/vfoReCNMBR/jKFHSouwvtPfzrLHlV4BtANEKiBbFW2VPb6OyBxzYYU+vPsp9NLbB2qGhpSjpmzy04wnkwKa+nzzAGPTaT6zv3zr7AXjq9DnwQpqzzY47nCuMNzFIWH4F2AYQrYBokRM//I48IBhlfZ5S+NvdpQRjxu4Wf0c4Nsbf7t7dZm4ecLCe94UYY7J55gWPRphnuDMD4GmNtUqzm0FoxMP+xeTUx2DLrwDbAKIVEC3/AaHMfjKlGiwGAAAAAElFTkSuQmCC\"></img></div></td></tr><tr><td>2</td><td><div><img src=\"data:image/png;base64,iVBORw0KGgoAAAANSUhEUgAAAEAAAABACAYAAACqaXHeAAAABHNCSVQICAgIfAhkiAAABRdJREFUeJztm/tPU3cUwNve25YChSJtXUWQlAmTRyYDNTyS+WC4LVGX7Adc9ogQdclizNycGLYf9siWZSbuB36agWXJ4tyYAUwIM8tgmxMdSxOF8RwWoWilvKSlDyi07Fc//APfH+49v33uvaWnh3PO93zP+V7tjWsd65onZDpt/knU/Pr7XfDolBtc/dACtmdXgK/d6AY/964V3Nf1N/iTI6+DhyP94H6NA1yT/wrYlyCBTfOr4LhfC9ZpFC6qAUQrIFq0HZ1/IAe4UxlD5iBua6Y9j8D6UAjc6WUOMVmfBi/oesFlRhM4NNkHPnXoJXBz1zB4V2EO2La1BLwiLYNXo/x9ivcA1QCiFRAt2lv91xHkN5uv44G2Na6b5w8WgfvDKWDXKnPClMcDNi4xh6TbWRccLNaDt5lKwSbNVnDTD6fA4+5EcEP9O+BNsThY8R6gGkC0AqJFnhlkbf9TJtfxnWknwV97l8CzG2LamJsONmeYwXlp5OmmdnDp0ffA3tlxsEW7AD5xvAlcW3sC7Opl3VFRsA+seA9QDSBaAdEij6/EcKHIehzc/OMM+MAm5oi5Yhs4JdAGnunlumwrZF1h2c664vSF8+CFSf79tz5vAF+5eBY8P8Haf4QpTrPXxvuK9wDVAKIVEC3yYGsLLrhXuN/eEWSOKKtj7e0I/wcetSSBdZUyOMV5Bpzo5zqePLsH3HjhGfDA/Xyw3rAZfOZD3v9lYA3sc3KvoXgPUA0gWgHRItec+woXJqNcp8PLjOHW+BS4oSgTHBhnrd3oYX+h5/Kn4C/2nAbHHH+BQ+5c8NVvuXcwzVI/KcKYL7IEwRmyE6x4D1ANIFoB0aLt6vkNPcFYJAEPTEisxS3zD8GSyQ+O6Axg4zJzxMlLV8DVJStgr4s55OWcMPjqHfYYS94+Aq5KHgXnZfH7oxq1JwhRDSBaAdGibbnVghxgXXsKDxjirO3H7rEfcLmnEXx2N2dzugL2E6ZuMwaTJjir88WLwYlLI+B4diq4e84I/vIo9wZjaVvAqY/Yn1C8B6gGEK2AaJHXxxlTazbWznKM3DbSAb43FAEHDjDG1q2c5fVlMqdEo6wbvE6e6Zn9jHOGVXkOXFd+CDxm45mlnuafwTtL9oMV7wGqAUQrIFpkQzpr8ZjMdXXCyL1BVdlhsCPA/fnFP5kj3khmTOb6GfOOj46Bu+unwUM1GeDK/CrwAzv1k9ycXV5q/Qf8rI85TfEeoBpAtAKiRdaFF3Fh0ZIGtmrZR7cnb1jntz8AR/SsxYuSGLMDL7AOCLXzf6Cv4OxufpHnBl3D5NdyKsHtrkFww8dvghPX1HOCENUAohUQLbLFzDM70jpjJO57DD72DWd73x1+H1ySZwevmpPBOaPMIZ19nE1m1ewG7+jhbDKSxTrhTtf3YP0Q9XfW7QL7ozxjpHgPUA0gWgHRIq8nsMcXDPABT5B9+PJ93H+by7LB95e5n48tsgeYomHt7ory+8Mf8B0j516+r6DvZY/RW8Dvqy7n+wVzfs4xLA7uRRTvAaoBRCsgWmStgef97TrG7O1/+d5ebWE5OBDk7E5a4OetFs7v42aeLa5//lVwbD/7ES4r9wYBM+cEW27yjNHmbTxvYJZY50RCnGUq3gNUA4hWQLTIi0lcRxN1rKXLSl8ERzb0AyQfP28wbej7h6LkxzyDtJTAnmS2zH5Ctof9Cjmdc4a7+ed4X+LewWbi3GM0pL47DFENIFoB0fI/MGGBXGP+dwsAAAAASUVORK5CYII=\"></img></div></td></tr><tr><td>3</td><td><div><img src=\"data:image/png;base64,iVBORw0KGgoAAAANSUhEUgAAAEAAAABACAYAAACqaXHeAAAABHNCSVQICAgIfAhkiAAABRZJREFUeJzt2+tvU2UcwPHT9bTbukt37Vx3k22ImytuTgyCYTgTUUkUF3cBwwIGr8MECASNGEKUYNQQjSEmIyGCUYyThERgRt3iZmAahnRIN7K1u3a3dqWXsa61W+tbvvsHnhfn/N59Ts/a354+z3OeWzX+AXdMui+cs6P3U8rS6+FEown+6MwpOFBRCe9f+wj8Vetx+MbiTXjdfClcVdoAFzYG4TVxOfA1rwXum+/l/Y/54DhJ4aEWgOgERIdmynELfYDsTcINPv1dWBuR4QfWPAyfPPcjPHjpe/jwuV9ge28XPGm/AWeOD8Flr+6C3amg1HW6G94YyICn9qbBiq8BagGITkB0yOEo27xTwzYX1rKNF8j9cFTL5/CDshlecujgI0eaYN2uPXCLORc+/7sLPjjSCptT1sKfvVwPX+jthEv8/M4VXwPUAhCdgOjQeANWjAMam1pww55DX8JVQY4Lfp4wwgPf/soPCOHtpdhDfHDLxewjKp9im9cW1cEXw8NwtXUAHg0XwinPPAlPtH4KK74GqAUgOgHRIWucJbiwoXYHHA1z/hxzXoQ7hzjW1m2qgj1BttG3CrV8v9II7D5rha9vGYGbLAVwbZYXbv6Dc4lV1eyjKg0cZyi+BqgFIDoB0aGxDTvwoA4spOOG7qM/wBaDHbY3fwz3X/0LvvbsOJzYnwVvHf0Jtoai8L8lXH+oz10Pv53KPmZ/xyAcCnBc8f6hNljxNUAtANEJiA5ZI3PdP5LANqN7h23uHz/n+5k9V+BZ3XV42h6GN4cT4VMyXw/YOe5YNMbz87ZegHs+dMN+M/M9+8nnsMM5Ayu+BqgFIDoB0SHHe/24kJydDDeaNHDbGNvkSBrH1rdt7XB9jGP5Ownb4I1byuA6ifsEXxs4V5if2wkHtnMccMKVB0/ri+Bykw1WfA1QC0B0AqJDlrxsY8smzp8jWfPwzprVsGuCY++Fdq4Zek28//VB3t91ic/x7gl+Jxk1fP3xl9hHpKXuhU9e4bikwnEQbnj6NVjxNUAtANEJiA45KX0BFyLDnO+n6Dh2T9ZzTa4nyjW5v/u5zv/eDs7/y2u4l1jRFoK/GbsH7zPz87a118Ja2zH4xFG2eetAAuzJ51xG8TVALQDRCYgO2RXNxIVkHqGRQoWcC7h++xMuSy+H85bH4CHbE3B+aAn2mvPh5+rYRjtTuRfYEroMm7K5F2jy8P9Zn1QNZyUuw4qvAWoBiE5AdMjhyWlciKvi/Fzn4f7+1eFb8NAc5xKL2kfhKQfXA6ZzeBZ4dIju09+GG3a/Aq/2cW/RZ+RzXo7egVO1HIfoZhZhxdcAtQBEJyA65MxirgH6fXzuzhuzYYuFY3FDxyzf8IXn+fe67+CiVe/CHYs8/x+c45qj7OZepS6ZfVIGlwClJWcxHEvjXOPeivUPxdcAtQBEJyA6ZJ+GbUqK8jlriGMfkWnm2WLXi+tg95nd8OF9B2BblH3Gdi3PAxhzNsFdAzxvsODiGqFF2gAnJjF/9zK/45jMPkfxNUAtANEJiA7N4GgHOoGgxLH5B8e/oJvfhAf7zsNlFZvh3FzuEwQ13Kvz/MeETDqeVwjHrzg/IPM5brzLBYz4Fb9pisVxzdMfUccBCLUARCcgOjQ3fZfRB9iX2aa8S1ynnznG3wFavR74jQP8vYG+gG0ybpx7j3lJbKOGMD/foOOZpXCUa4DR0CQcWeI4ZaKca5oLM9yrVHwNUAtAdAKi43+0IIjQSxZdWgAAAABJRU5ErkJggg==\"></img></div></td></tr><tr><td>4</td><td><div><img src=\"data:image/png;base64,iVBORw0KGgoAAAANSUhEUgAAAEAAAABACAYAAACqaXHeAAAABHNCSVQICAgIfAhkiAAABRNJREFUeJztm+tPW2UYwHs5pxdayqUt9zvSrWwRxs05J8scxuk0cc5oUDSamBi/GGOiH/ykRuMnjUsWdPMajVmMkG0OVCbqnBsIkc0B404d9zIoLZRC6Urr1/36D7wfznm+/U7a9zx9+rzPeZ/L0V7ubY9r7pDFzeQ7UTM/dB3cd+YSuHVqDJybXwAu2sf1srPLwYGkNfB2pgz2/HEb7PWkgJ98rA68P+zj/Srw8zTx9XSwTqNwUQ0gWgHRIt1o/xcXCqt3gXstfnB3+CY4pdQMPvzEfeCBlFRwMDoMTg5yT8aHY+DXG/eC+wcd4JDVBB7K3wK7Vhe4vs4OVrwHqAYQrYBokSbGenAhmhMCZ5XUgEvdt8D9m93gL3uawfoiN7gqkxycGwWHzaXgodVtsKVgFTzyyXfggy8dBvsDLrDJyBiheA9QDSBaAdEi2QpqceHECPdItcUI3jr0NHj3dh74n3zuaWtQAjunZsD5GfeDi2p4DjHG+B8Z5CC4vukAWJecSzZOg4MBnhsU7wGqAUQrIFqk6WXu0YZHdoBrIlbw9U0u0OW6hxfGeC7w+sbBckk9OD2pDFxsiYJ1q8w1TPE08GbYC5aCE7y/bAEbMxlDFO8BqgFEKyBaJPeLe3DBt7YMNpo94JwQg8C0vBO828IYMmRhvt+VsR9cZ97g/Ze1YGc2Y4JvluvFxq+A3/iiH/zhZ2+D00L8zxXvAaoBRCsgWrTtba0onHtifO5vGA3g41+dAM+X3Qu2X/wLHDjC/D+LqYKmyM4+wCvPPACOR1bAXSf/BO9KZQya0fMGcpz6P3rsebDiPUA1gGgFRIuUbtfjgs4fAXfHuKeqS1hji+Uw/856/Ch4TwbPDStX2IdwGFiDPHeyAyyPnwXbwqwZ2mpZz/it429w06tvgv3BObDiPUA1gGgFRIu28xeeA9a0zJ/XLOS2ee7hsIHP+bRJ1gN6dXwO5xbng8tnOD/w8/BVcFOMNcdLes4LbHQOgEtcJeCHGjk/EHWzvqB4D1ANIFoB0SLFo+y36y3sC4SmWUNzuyvBK19/Ck47UAGeneE5IM/PfH9Sy/VfsDEmLEbYRzDPcgYo8GAGeHuKMein9lPgevldsOI9QDWAaAVEi/bC+RacA0yWhHqAhjHhhi4AHuzhHOFU5jXw8Hoh2OZiv7/SwxixepnP/ajDBj62jzNDSxXc81XLrBl+1NIJHh3tAyveA1QDiFZAtEipCTW/gI9zerKJ9YJkE2PE6OAg+FkH5wfOO3lWXxpk7+7HCj733TJjSH3Z++CbHvYRxq6ytzmSxd5h0RH2Iidu8/6K9wDVAKIVEC2SN4l73qxjvizPs1f4zvFvuEJZwvc1rNsX9OWA0w8+DA6dvgi+FuDnrX3vgfuqOEPk+IF9iM9ffg3sS5gPyGz4GKx4D1ANIFoB0SLpw+wDrGuYf8tOJ7j8bs4NWhf5Ds/cDtb87Cncs3YrbZ7t5p7f2MleoPd36ucKc/6/su0DsH+e+i8M8Jxxa3sSrHgPUA0gWgHRou1ob0Y9IBrlHpYNrNkZrNxT51ovgCNJnOevXSwG723MAr916lfwQANzj60IY4zTyHqE3sbZ3/pyft6cUB+ILTB3ULwHqAYQrYBo0X7ffAYxwJocxges2cz/I6mMCXcl9O5On2UNzmpmTTHPx/qDt5Dv8X3ra6GCG+znFy7xnaAZie8uD3T9B36u7hD4qaP8vuI9QDWAaAVEy//jzHcYveIKnQAAAABJRU5ErkJggg==\"></img></div></td></tr><tr><td>5</td><td><div><img src=\"data:image/png;base64,iVBORw0KGgoAAAANSUhEUgAAAEAAAABACAYAAACqaXHeAAAABHNCSVQICAgIfAhkiAAABOpJREFUeJztm0tvG1UUgGfGdyae2LGdJsatk8bETto0aaIKiYBIKZSCBFSiErDosit2qPALEBt2SEhR94gFCEGg9KFSUh4KCkVNaSkpTUgKcdLmZTeJk/g59ths+80fuIuZs/vs8czR8T3Pe0e9dPX7hvKYhCz/46jUlDo4r+jggLbB7ytApRGPgsdGfwDHRubBK788Ap85+x7vv1kF22YreNtWwQeEAO9oJbCmuFw8A8hWQLYIn0afz+2lz1SWtsBd2i7YMveCTdMHvja+A95oewN8OkqfvXfoM3C40QwuKKvgQKOFXKe+di0ELtoMUq5fAZ4BZCsgW4QtmMc//WsT/OpIGBxd6wRXawZYs1BWKANDMXBlKgC++8FHvP+HZ6hhzQKandRH3aLP31hinZBSs+DQfj7f9SvAM4BsBWSLWIp144O2z0fA5376AvxyF316qJ+/rzvy9Ha9CJ5fmgIvxxbApxZnwQuCz6tvsm5oTzWB10qL4I11+vxRg72D61eAZwDZCsgWcXGSPhh5i3k9OXcS/NTwOvi6Lw9+oszeYuYqa++M9R/48Dvvgi9l0uA+fQ/YsviflbUCuBShfscEe5WenKNuUVwungFkKyBb1InfxlG8v33ua1wQffE4uFt5yBs0nwBbHLkpnWzXlYUO2ry1yrwfyh8EtyQZU75M/w1+aZq1/vBzSXBjdhk86OsFu34FeAaQrYBsEbsZ5ulUmXkykmRt37P1LPjXIp1+ZU+ZT1iNABd7aXPDSoHLDc4cM2v08UMXmefNIz3gWPEVsEicB39y9jTY9SvAM4BsBWSLKEVYax8fHAKn710GZ0Psv/3DB8Cd60Fef5d1Q3iRMz6rez/42Az7+cUC5xPL4g9woIkxZzY9Bz6RepLPN18Au34FeAaQrYBsUc9f+Ra9gAhw7r9yh3t91uF/wVshxpCAxb1Fe5l1xWSXCY6a9OF9ddb+mmO+8OAhY0g4NwA2M4wB2flvwDfuM4a4fgV4BpCtgGwRluDcXJjbYONpNvQrN7nf3z/E2l2EWNuvxhkD+sLt4NuTP4IPJvvB7THqV1z9Crz96HfwzWnWDfHwm2Btgte7fgV4BpCtgGxRxy7wnGCjXsMFlp/7/X3c6lMm6ivgRGsHeLfI3mAu5jijE+B+f73EGDTIEKAEr/N5303f5vNm+J9umUfB+sk2Pl9xuXgGkK2AbBHBVvqo6jiLmy9zP/7PGs/y1jV+X8s7ZopRcnRqjQokWNv7g+wVgo4RoxrnvOL53mfA74+Ogk8NsZewpyfBrl8BngFkKyBbhFZknq82O/bubO7/mzrfF/CVE+CCwuvVCn06kthHBZoZQ1TB+ysl9hqKznOMejEOTlzg+weWn/fP/jMNdv0K8AwgWwHZIhpNzNO6wcRrqfTJ3SyL87iPtX0lxHeE7AZnih1tPP8/PnULHCyzzjgywLxvhTmf8Bc5o0y/9jrYnB/j9V38vetXgGcA2QrIFnXiyjUUAlWdMcCuOfK0xTyvNJjnLZU+bxj0uWqTDfbtsPcQBr8v6IxRO3nOJFsc7yesr7G3SA+yToje+hns+hXgGUC2ArJF+B21dVVlre7Xc+BQK32+ts06YU5hDAj5HD5b4fwhb/C8QVnneX6/fp+sMUZEA3wv8EGSvUPu8sfgTYN1hetXgGcA2QrIlv8B77duVAwf5S0AAAAASUVORK5CYII=\"></img></div></td></tr><tr><td>6</td><td><div><img src=\"data:image/png;base64,iVBORw0KGgoAAAANSUhEUgAAAEAAAABACAYAAACqaXHeAAAABHNCSVQICAgIfAhkiAAABQ1JREFUeJztmttP23UUwFv6K+2vF3qhdDAcKxuXoDC8FFjUuIUEN9iAJcviNfEa9MkYdQ+aGOODwfnmgw8mM7J4eXGTkWyOiLg5B4h4mwPLhkKBrWW00BYKvdHW1332D3wffr/z9vnx4/s7HM75nvM956v9bLgvr7lDTPryO1Ej67eDS/x/gSelPnA8bAE32J4HfzH+MfjKagJst5SB/0zpwS2VDnDQtgiu29KCX417wc79/HsKNAoX1QCiFRAtkjlThQe/5a6DK4oZoxqrBzjq7gWH/vkSbK+JgzuS1eDIHsZkdp3fr4oypg0L94BrOx4EN1Y5qe9EEdCxmQIr3gNUA4hWQLRI4/rTeBC5MgCubj8Bvmw7D/Zc5IIH25l3A6enwJOlEvjF7VHwp3NL4Ia6e8Ebl38Fv2x+Brw2zT1AazaAYzbuaYr3ANUAohUQLdJR+SE8KK1tAp8YuQ0em18Bdy0GwCfnxsE9le3g1JIOvC/KWv/b2W3gmSBj/u3jH4ELg/x9t5N1x7/zM+C8xLOE4j1ANYBoBUSLtJlgLf5K3zvgJx5uA3uLmFd1XY+Sa2+AB88NgesTLeCB2R/BcvSuOuG5B8CJxDrYukZ9MjJjfObiKXCVux6seA9QDSBaAdEiGYqYJ5v0leDGpjrwhV7m4fxyBuzy14APpI6BrxV9B56O1YLD+1zgIvl+sN3FvJ9Nh8DJ+Aa4+7VD4KsBvq94D1ANIFoB0SLFsw14UNnMntlkcQk40/k0uN/HHl5LO2N+7L13wW+5OTcoa2wG3/LwrKBPmfnzOTt/38A5RYllJ9i3wH7EwJusUxTvAaoBRCsgWrTDZ89gNrjs28QL5Y+wLx/RWcFWcyn41io/YE/4ud6lr8Cf7+ecwHqqGOx+6Vnw7jD7DTO6JNhQzjrA74uA9yxwT1G8B6gGEK2AaJHyQfbhl7TsmzsS7PPLphw4u+IH6yzcI765wFmhZzENnr/EHuCOzC/gn09y/t/k5dmgq5z6fzg6D65oeRz8feYDsOI9QDWAaAVEi5Tz8H5AqxwDryYZg8tLPK/njOzByVvsy0/7mecd1fyeScvvRYo4/6/Zy/fNN78G34ixDum8j3vQyARnnXsPvQBWvAeoBhCtgGiRjDLP3+Esz+sFOfbpbSbaLLGNffnSdd7JOf4ke3IBE2M8vsHafUpzjutbeZ73TnDPKOxsBdcn2S84VrIFbqzbBVa8B6gGEK2AaJHk9BoeJMOMoXQB+/C3HYVg5xpjLG7h+9Oj/eCVlm6ul+V5XeNtBO70sT/gOsI96nqMd4L+6/8E3Fa7G3zNyjmG4j1ANYBoBUSLFNtkz6/Ayvl7PmoDl+U4W7Olmcc18bveLzsI/sH3E7injfcLVuPcYwZDXH+wmHMEZ3gBXOHlHadeB2eV3QHWPYr3ANUAohUQLZLLyDweirJvrtmxDIxxbKCxW5inh8+eAedCN8HvdzwFzsxywSqZ9xDHkrynODQUBNc3s0cZnuQdoJoV5v1AJAxWvAeoBhCtgGiRNnTMi6kSxqBlg7V9scSYS+U5DHys9QDYH2GtPyWzlvfEud6M1QjuMLKnmF0YAR/Z1QEO/s2zxx9m/o+Pvt4DVrwHqAYQrYBokZImxpxmjXnZssKeYIGDPb9QIc8GRg3PEhYde4YGK2eBJifzfGGa8353WQW45g3OCdZdvNP0+1XWNV2HD4OlIGePivcA1QCiFRAt/wMeeHD+eGqIOwAAAABJRU5ErkJggg==\"></img></div></td></tr><tr><td>7</td><td><div><img src=\"data:image/png;base64,iVBORw0KGgoAAAANSUhEUgAAAEAAAABACAYAAACqaXHeAAAABHNCSVQICAgIfAhkiAAABQNJREFUeJztm91PW2UYwM+hh37SUigd0FGGFIKM0eEQFoNsLFs0WeYSs/kRM/UOF6/czbzRC28XTTBxXmyJMcZpuJghUWOccyFkcwQ3MmBhyJcbg1JgtLQ9baE9PfXWH//Ae3HOc/c7nHP68PR93vf5qnzj12tF6X+y4wVKUX0FrEVc4DbHOrhYuw+sRr3g2YWnfN+tJDhbHQB7uibBwda94KmJBDhcVQZ2qnXUx6+DSySDi2kA0QqIFiVtp89XrdGn83Y3eGjuAXhJ5gu7M3awvdwBPqrRB7859RAcqj8IXmvaAetp+nwuuQnWfNR33ZUHuzesYMOvANMAohUQLYqeyeDCcpHn8JXBS+CDR3gOf193HJxaoY+VjU+DD1Q+Aftk7gmlr6rg4p9x8N1ZxgU9LR6wZmUcIskW6hPk+wy/AkwDiFZAtMjDv/yOQGBs7i5uqOlsADttfMFn382AF9sZ659cV8D73/CBHT/dAE+dYuw+kWeu0J7sBHuG+PwPk8w9wtVV4LfPvwM2/AowDSBaAdGi3HHkcEFuaQTbU3T6SJQviP1Dn6+upM8mxmjj5a42cLrYBM7OM7Yv3+LzC58zd1D3dIM//KgLHB3hnlbyuJosGVxMA4hWQLTIgzevIg5YSfpxQ8BOH/dmuCck1pmvf7IyBD5/9HXwlQh9svNQM7jXyth99P5v4HRZmPqp3DP8U6wnuLqZG3RLrGkafgWYBhCtgGhRHs0/woVCgvn2vuN94NQmA4HaCub/Fw+8Ca63cU+5mO0AL/r4fMzGmp6z4Qh4+/YCuPdl+vjlP34Gd6gfgJ8PLoINvwJMA4hWQLQoI5OsCR4+vR9syWyDrQ6eoys6/+4t0Ic34qzju/PlYH2JfQmnpQCW09Sv+n3mKvOzz/H5tl6wx7oBfrrK9xt+BZgGEK2AaFEajjF/zlvpk44Ae322HfqktMh6wvjqFjgULAWrEveMF1XmFo8DjDOOZQ+DM4vMTa7/tQZudHE+YEvj/+PZMvcAiGkA0QqIFqU1uYwL6ap2cHyTvTotTp/99toA+OPT/eBnTvpghd22i9PUaKOCz2eyYKfNCfbvMO54z8vcYtrNAQZfC/sUhl8BpgFEKyBaFEcPz03/DH3o313n+ujoF+BQB2NzrUAf8zj4fm+e9QbFwl7fyK2vwXEP45SmcCs4HOK8wmDyDrhdZS8yHmEfwvArwDSAaAVEi/zV1QEc1AN/r+KGC+cYF7jWOGNzczAGrgxwzjBqY/3g7GvM1y99+SM42Mz+fv8L9GGtoQWcS6TA8SQ/P63z+UYP5xYNvwJMA4hWQLQoNSWss7/1yiGwXuCsrVJHPtvNekG67xw4OrMEftg2DL7XwH7/mZ53wcPqCPhElnuERaFPRzSe85Zdc4jJCH//YPgVYBpAtAKiRcl0Ml8OPWHNrCJBH0plmX+naljnn56gT+vb7MWNXeZc4YWKPeDxIuMCKcbZ5Z0AZ5A0C5+vyjJ3sdtYb9jQ+J0bfgWYBhCtgGhR5DnW4II+nvM5K2eASp7Vgrdk1vkdeZ7b2yp7jX1Fxg3NTZwNvnede0z/iZPUOMXPK0rsS5SW8fcDhV3fsTNr/mYIYhpAtAKiRcmVcp4+k2bdPebiHtDoZ51eLqMNNY35er2LfYG97jPgcZYTpE9fYj9/W+eMUTHLPoUuc/7A5uSelt9VL5DyY0DDrwDTAKIVEC3/AYLdg1P+zarsAAAAAElFTkSuQmCC\"></img></div></td></tr><tr><td>8</td><td><div><img src=\"data:image/png;base64,iVBORw0KGgoAAAANSUhEUgAAAEAAAABACAYAAACqaXHeAAAABHNCSVQICAgIfAhkiAAABQ9JREFUeJztm8lvG2UUwGec8ZLddmzspImz0CS0EjRpSVJCACUBQRcEqsIipUIqPVRInOBSQEi9cIFLLhwQOSCVRYJSQSpaFZGkrRogJEqTRrSBLMR1VsdxbGcc7zbX/vwPfIeZd/t5xp7n5/e+7733PcsTQ5M56SEJerwPo1SaXgdvRQ+B2yqz4NCqDA4kt8HVpmJe96yA702XgmVfCuzuegxsCBeAq4ougq8Oj4P9hgTfL2lcdAOIVkC0KOmiCF5I+cvA0cYasKUoCn6wzZiyRFTwh38Ngc8drASrtm5w7cE18BXvIrjd46C+O0ApGH8R/Md/XMOkY21AzXuAbgDRCogWZU9J4wWXqRwcC5vACSVEjnFNCBsy4KP9Z8BeQxE/f+YrPn+fAj758qt8Xpx5xcjN6+DelhPgmzvU55eGGFjzHqAbQLQCokX+8cqfqAVqXcwLdlXu25lcGGx14u1SKMRa4kZhPbiuMgBeCtwCm/c/DT4SKgGvzLJWsDcy7/DPLfF5CQv4doTfT/MeoBtAtAKiRR6bGUUQZ3N7uGFeTYJNqWZwlbQK9jsqwNFUEJxKG8G+ST84eaQO3Gxksp9NOMGq+VdwW0EPn2dif6Jsk/0LzXuAbgDRCogWJZtmLl+jFoJvrV8DW02831i2D7yTYx4QMLK/UJ+0gVOtjNEnVa4RIRtjXk79C5bm+H6lk/2JUJK1R6nMfoPmPUA3gGgFRIuyu2HGCxsVXANOPt7K61Nx8LzdCo5cnAD7ulh/WzpYrx+VuUZU3OVvoqz9Dl4+xDwlXl4FlqI+YJnEnua6kf0OzXuAbgDRCogWxabwrM4uLYOX82I07uJZXnMJc/3tV7rAxSr78tnbjOnLCTc4r1yXDjiYd8x8y37Cgd4NsLH2OLhwcxO8E90Fa94DdAOIVkC0KMlSnp8vp1jPq07um8mwC+yKMsbKzczF3RaeK/jjDeAnksz1B0+zRxj1MZfvjDCX725+ARwrGQEbLMxjqjP8vpr3AN0AohUQLfKZ9w6jJ9gw34gbut+/AA4YuA9bctxXS2WeHUpJ9uCMxdXgGwMfg6ed7OM73W+BT5/nmpDMmxEKZ+3gmdlhcIud5xya9wDdAKIVEC1KvI4xV3aH+6bXPgW2qswTEuuc42txeMARtgukRG4BXHDidfBZE88ZXBbWKlP32QN0+znfMLF8CTw+Ow0u6T8H1rwH6AYQrYBokT+4/hPyAG8tz+I8S6z3n++sA5vvslZw5thjXFF4ttiQYq3wIMN6PuOYBecCnAsMKaxFggv8DTPpR3h9lWvKJ9lRsOY9QDeAaAVEi7IbY4wHF5m79y/cAw8ucgbnnac4mzs+w/u72p4BG63M3X2TjMnuSvYUhwrZU1xY40yQNz0GtlW/C3b/lpdXtHIGSfMeoBtAtAKiRb42+gPyAFeac3lbjWzU+4OMwb/PD4CrTr0NbjnMPn24gP2CC8Nfgo/d+Qbs6vse/Ohz7BkOfPYaeLPgI/CpHsZ8+88sTjTvAboBRCsgWuRLY99hDdiTOB9Qnvd/ACnL+nvLy7yhqa0J7FN53R3krPHX9y+Duzo433/2c+YJlS+xZ+mZoD49TdR/7gv2K6w1zHs07wG6AUQrIFqUtJP7enKX9btR4Xx+TmK9v7+e+6ptizM8UpYxGSvkzFBfgrPCVf+wR3i1nXOFIzV5n/9sB3DwjU/Bxx1ck/re7AVr3gN0A4hWQLT8D0fdll/mhmgeAAAAAElFTkSuQmCC\"></img></div></td></tr><tr><td>9</td><td><div><img src=\"data:image/png;base64,iVBORw0KGgoAAAANSUhEUgAAAEAAAABACAYAAACqaXHeAAAABHNCSVQICAgIfAhkiAAABPxJREFUeJztm8tTW2UUwG/g5iaBPAgEUkgokBIgvBSoCrS2KgM+6zjjjG4dXbhw78qVK6c7N47jOM7UtqO106laccbHTEtGS7HQhiJCopRQoIUAefAKIY/rtr/8A9/i3rP73UBycuac77y+GD7+MqxKj8nfmf3HUXqmLwVOzkXB152D4Lc3N8GZ/CL4Xi///tThNDhnyoJvPvSDn9q5Dk54joGDCTv4OXcp+HR5CZikQdENIFoB0SIvVY7iwWCyFrweMoCt/iPgd8I8M4abKsGf3P0T3LA0A454GKPvpfrBVfs/gueObIDHfe1g92oG/EqJFazWzYM17wG6AUQrIFpkg70eD9JZM9hjs4FnfTGwRWXePVtgjDaPvAv2zyyBF5Yegfe6fgKXS6wDfM3r4IffRMH17eXgXS/rCmekDKx5D9ANIFoB0SJbVdpAfr4ALptmbf/CBGt5Kfsf0ckYjyzyDOloi4MtV++Bfc1Pgg+sjOlfrjGmu1/fAZsmq8FGcyN4Nc+6RfMeoBtAtAKiRa721eFB7xTzbNmLTeDU5h7Y+BVtOHl0CxyorwH/EWMvoLzWCT4XZL8/cKILXOpk/5/dZm+i+hRwrsCYb6tgr6B5D9ANIFoB0SJXh0N4oBSYh9VfGVM39ybB9YOs/UdqmsGR5HnwycAA2JHimTKjuMAXgmRVcYBz5Uaw18w6Y8VP/Tyj7GU07wG6AUQrIFoMV7+4jb2AO8CYXNti7V1oiIJvTbwJzri+Az9bcRScCI2BW4v2BEklAT4I8vNaR7inmM0e5+fHONN0mjgTdBR4ZmjeA3QDiFZAtMgFN2NkwcKZYN5AG7k2mIfLvIz5vmrO6TNV2+CS9AfgO8oDcM0K9ek53Q1+sMk8ngjkwdYCzxxXZRIsTS9TH0njohtAtAKiRVYk5v14IQqOGblLS+dOFHED+K9FzgRD3hbwR5UyeH/cQoVO8Qzaa+GMsirMM2O/qDc4Ns/7COvdnBmOb/D7at4DdAOIVkC0yG4r5/6qgzO8Gtcu2BG5Be5RXgKfj82C878xL88O8wzYceXApvjT/LzfuTtsM7WBd5eY15c7GPPmFOuKWg/nA5r3AN0AohUQLfK4jbWyc54x/I+HeX5I7gBPtHFe4FXIZjc/cOLSCvjDXtb25yqmwI7OMHg07wU/scV9v1c6BGdU7hZbmlbBmvcA3QCiFRAthuClrzETLB/iHuDGBe4JnMe5zz/IMe/GVc7xGwzD4PHdn8FpL3ePyhpr/TP2oryd9oD3LXxdkqpAtgi/T8Y0wfeTNC66AUQrIFrkpIv7/I0p9gLty+yvDa+yn74cPAD7+xfAtjDPhJ6Xe8GO2BzYeJv3AjdaeB9gJ8X7BV2VvBO0muUMcq6Od5EzKs80zXuAbgDRCogWeexRAA8O2xmj91uZ9wN57vfj378PHpA/A++WfAtuj3KXFzdxn1/aPwQ2lVwEd+6xbriRYq/gruWdp4U87z8kLt8Fa94DdAOIVkC0GM7+8Dl6gYiZZ0K35T5YzjFP125xbm/c5ozPgneXJGMjedPOGaGc/Bdss3EmOZWhflIFa/26Nb585eI18NhJ6qd5D9ANIFoB0SJLh+yfa9O8o9O3WrTrq2GQ3cmw9n+r/w1wzs1eIzTP3xXaOSKUYvX8nWKHnfv/nJn/ULrD95svGkJeaWQv8qn/DFjzHqAbQLQCouV/Xn58mwL2NF4AAAAASUVORK5CYII=\"></img></div></td></tr><tr><td>10</td><td><div><img src=\"data:image/png;base64,iVBORw0KGgoAAAANSUhEUgAAAEAAAABACAYAAACqaXHeAAAABHNCSVQICAgIfAhkiAAABQ5JREFUeJztm+1PW2UUwHvpLRRKy0tbVqCMCgwGmxoqiizLTIwENbih08zoNPphiSZmRqOZxiwmTvdpDmN8SQw6NW4zLjNTMaJjamSbQIRMJWMsvAi0vLbre+l7/bpf/4Hnw73n2+9yufdwOOc85znnudLs0LdZzU2ylDDejBqPywsuLtSDDVIJ+NdIFNy8Ng2OO6xge30cXFJlAUfG/OC8rBmczDeBl5Pr1M9IfXXL1DdPo3BRDSBaAdEiTwdCuFAsM2Yi1TZwXbwA/PPYGLjbIoHHF2TwTteX4KmzHnCs/UnwOdcieGXkGvix3tfA1hBj3Jqjr9vO/7niPUA1gGgFRIscbajGhexMEhwz0EZXS1b5hOQW4Jq5CewPvwwO7/WBz3xUAX506C8+fj4F7nZQn4qAG5xnKwYfPdIHdji38X6NwkU1gGgFRIvsmJvHBVc+Y25D/y/48OcL4G36Z8ETmdPgK/Y2sOVkHfjp7azdL00FwPfVMccMFjPGN9wu8PVvNsA1oVlwwUoDWPEeoBpAtAKiRfqpfxL9gNFgL244/QVzxL69j4BTK2lwwNICrtVfAGdXR8ELqXLwQ1HWJZu9N8AH5/4Dd97dBd6IMId1td4Ofvy7Y2DFe4BqANEKiBbZE/uTV6Z3Axt294MvZ+vBPWEt+N3lAXDbyBC4qYM9vCe2MuZ/9/J9b2lawZvuKAJHNPngCmMz+MNjH4B3eNV+AEQ1gGgFRItsz4nhtDMMfvMz8qE3MuCBeARsG2sEZ/bXgDtPMEfM38tavmd0O7i3qwfcnWEOWStjDmkxLIF37XwV7JniHELxHqAaQLQCokXOr+OsTs5yLtAWZY8wdZZ9ect+5oR9E9wLtFcGweNb2A9oKOsADwaOg6uamVN+67sIrq/n7HKuuQy8puGcYjZ6Eqx4D1ANIFoB0SL9eOZr9AMyNq6Trw8Mgh+07AHrpT/AjTm1e2arDqxzc3bnCl8Gt5YyRyTNPC/gDVWCF5NXwU1GzjKNEuscfx5zluI9QDWAaAVEi1xp4jrpm2KtfaSIMXjxk+fB1x9gTB/yFYKPfsXn3/biM+DyW9jzM/nZ948lWaf8o+eZoRaJ7yuVGfMpA3lzUQyseA9QDSBaAdEihy2s/WNZAzhzhbV8x+FX+ICcnt79XefBu6x28KR3HNxZ4QSna7mfD+b0GxqD1MdUxRi/keA6X8iQ1yxlOcdQvAeoBhCtgGiRvh8ewV7g4IEDuOGdt9nDa9D+Ao4kOTuMz3A+/56L6/xTLdxLNMlz4PW6e8AB9zK4NCeo8+2cE8RDzBnpUAIcmxkGK94DVAOIVkC0SKdOsB+wUsCYyUZ53t9xjmdu9E7O4iqM/F7gY4l7gYedrDvM0iawZ5LrtK+QOeXWcvYbfGaeKcpL8PeXtHy/f549RMV7gGoA0QqIFrnAxFr6zg2e7z/Rx9mdpp3f7Ayv8ufX/uYs8YWuu8C6YBX4h0HmlO49nCvEg+wpajTMMYE0Y77RzzrhvI/fG9RMToAV7wGqAUQrIFpkrZHr8JyW5/mTGu6/37/AGKq285uc48+9BE5HWasHc9b1Rid/nkryPIHDkLNuJ7iuW2V+b+C2rYF3BNivSNdSX8V7gGoA0QqIFulS/6fYC5QkOXtbN7FPH0ywTijQce+Q8nBdtsqMyZiWdYfOx+cHbKwjYkV8nzHAOYW9lvdPLfL5FjP7A9Uu/LmqB6gGEK2AaPkfc0CGUsCbprwAAAAASUVORK5CYII=\"></img></div></td></tr><tr><td>11</td><td><div><img src=\"data:image/png;base64,iVBORw0KGgoAAAANSUhEUgAAAEAAAABACAYAAACqaXHeAAAABHNCSVQICAgIfAhkiAAABQZJREFUeJztm9tPHGUUwGd2h72zu5QtXRYWKMW2bIFtbWgQJVUbFU36oNXYkCY+1Jg20djE+GJC9MWY1EuMNpqYik+aGiTG2LSJBlNtCxWl0rS2YFehynLZLSx7g73O+Nrf/gPfw8x5+zHMzOFwvnP7vpFH3vtAk+6RU9ML96L0wpHHwcPxq2DvdAG8NX0NPOVSwA+3OcB7GnvAjlIOrKVawFGbC2yvsoBTgWVwIWsDW6xbwCZJ52IYQLQCokVZCfXjB8XYR+Bz2Snw1ZUfwQ/Ku8DBh/rA/aXN4BtqO9j52zB4TfKDkx0q2OZFyJICbl7PRHh9bj0GDteUwLr3AMMAohUQLXLP8QEsmisq14h35w7wngNN4NXUOrhqNAo++eckuDDA+50XfwZ/bz4Enp9ZAne/dhhsVxJg7eYYuDn0DHiTKw/WvQcYBhCtgGiRm7qOIwY4n6rCL6T87A3kO3xA34EW8OaKmNC6fT/41TX2CiNXWPtHwtvAndr94I9vnQIP9rCuSFtYB2jabnCjqwasew8wDCBaAdGiNBzimux9+W3wpTe+Aa/Ny+BzCSu4v5d5/vLrF8COt9j/1zzCeUH6OmPID1Nfg4uFDfBSD9/nr6sDq0k+b9HDeYHuPcAwgGgFRIs8OPEJEmdLijO+u1ausfjnQ+DOF58Fz/4xDx49fRZseXQf2NHUAn4uyDrkuy2c6YWG2Vv87Q2CwxucD0zMfAs++u47YN17gGEA0QqIFmWfyrwZlTln35bnmlx+krV9JhAGN8tt4BMj3Fe4Pv0v2NbCNRtc7gB7Y7+D8/f9B94V5fxiPr4KHjj2KViKeIC69wDDAKIVEC1KzsP+2edgDNDyrL33lri3NzfpA9e3r/ANq5zZDd3mDLB3Rzd4rMy9R+38LDipFnm/JwPuOMi6ZWr2J3DXAyGw7j3AMIBoBUSLosaYh5V8GtzYWg3+8A77f/sia/1/AvXga79+BfaEXwJXLzPmtO3mTDDeXQY/NsTe4HL4Erir6mnwEz7WHeY89de9BxgGEK2AaFGsAc7kTDGuyY3sGnjQzzX4xZfMsxd+CYB9J46BS3bm7dwt1vppuYH6zDDvD2XHwe3+o3xfOQW2xLkXuNHAv0/3HmAYQLQCokXxZ5jnE3bW/rkU64K/ahvB2mGu0ckz7MffVFlnJJb5/OpOntvrW+L9csd28PgSZ5bRkyPgtiPPgzOyG1yOUh/de4BhANEKiBb57Oj7FRvqnLHNKc3ghIkxwSS3gscnOLd/peLc4FwqCc5bWIfUp3muL+isBTvLjBmnP+PML9DN/2nf/oO8P8kZp+49wDCAaAVEizx28wxiQHyC++mlrawTGmp5ljehsbbOFXh+YCXJWtyZjYBvL7LX2BviPoO7zN7Dmq7Yu1SY11U79fdVnAustrIu0L0HGAYQrYBoUdILdvygbqcTrJmYNwuFLNhi5Ro2u3nuz5Ll8zcaGUO6WjkD9OTMYFeKvUM5wBmhUvKCbS5ejxYZE8oLLHt07wGGAUQrIFqUeo1rbi3DGCA7uKbNXGJSycY8rcZZF5h9PJvrqHifu4q9QHmde4tqjr1JnOpJbjvzfCRe8Q2Ryu8NNBP3CXTvAYYBRCsgWpQ5G/O8ucg86VY2geOlim+KJPb3ATu/7Y1m7oJdDl43aXy+6mHMuJFkTKgtsg5JRKhPSWFMirJMkNKFi3y/pHMxDCBaAdHyPySei8iO2jxxAAAAAElFTkSuQmCC\"></img></div></td></tr><tr><td>12</td><td><div><img src=\"data:image/png;base64,iVBORw0KGgoAAAANSUhEUgAAAEAAAABACAYAAACqaXHeAAAABHNCSVQICAgIfAhkiAAABQBJREFUeJztmstvG1UUh2fs8SN+xY+8nFftJilRglpIKVBSRFohWiFRFYRASDyKBAJ2bJEQYoNYsEAIiU0lYAEbHooELRUSCVCiNiGltNAmJHFedjKOEycZx+9HMmz75R+4i5mz+8YznuPje88953ev/O3Nj3XpLlvrfPpulDLSf+CwqoD7Ettgr1IA/1FzgCeufQHuCpwFxyJ14EcPRcAtmgbeONYPrr8yBQ7q9G+90wu2SAY3MwCiHRBtSjHQhwsdywvgrNMOtmc5p1fuI+dHFsG2iYtg94kaeLpuGHzw/k6+r9QOHkuPg+u+/gccaZbBoYdOg8uzFbDhR4AZANEOiDb5K3UUdUDaYsMNLbofHFzjOlpI/ApO6YypV/OBowNJ8I+uNbBD5Zye0YLgnJV1wtRcEezSYuDPet8GJ8J5sOFHgBkA0Q6INuX6OlKA9ECI6/RSfhqczDaAf166DX72mVNg5yrX7e3qANj/y190aCAHXph8EHx2cA9c8jMn2HIR8MSxRvClny6BDT8CzACIdkC0yd/EblIPKLD//9C7Ah78l/14dGgQ7H53Flz/fg9YCayDB+ZWwSVXF3hu8ntw61oU/MGVeXDPw+xtdpJ/gy3yLlkyuJkBEO2AaJPvLF5FDhjVlnHD7wnW7jdCnENDVdb6R7u5bruDrDPcagJckag/DNup4Vm1VnD/lhOcnKFesbl3GezraQOfPHwEbPgRYAZAtAOiTfktRh1/svAn2F5yg18NdoD1NOdkPs3+3rbCOVr0W8FxN2v/cxn+J5/OzoA3w4+Dj79C/5ovsBfR7dQvAgvUHA0/AswAiHZAtCnt7dzrGyr3gse3mSPaPFxXF6KszR2JHbDeynU8o7EOaNx4BDyzTv3gxd03wZMxle/bYI65OjUCfr7nJXAunAEbfgSYARDtgGhTLLoHF9QAOahzHW3iFJQyOe4F1mcD4EaFD8RdfN4lsQ6Yb34OvLxMPcLXUQL/4KS+0KQcBbe7qHEqGvcRDD8CzACIdkC0KVZ9AxcKKc7h0i77fzXAOeUusBZfDMXBSwFqfKE8NUXvLe5FerupR7wWL4M/v86cE4t9CW7pPw/OOJljDhxhnWL4EWAGQLQDok3x1ajZVWv71s0a9+Ka0vvmvIc5YqvMumEgxf34a7vMMRtPsjfIyazt37nIOb/rZE44cfo7cKPGvcvbsU/4/XuHwYYfAWYARDsg2pS4k7p+xEN9oFpl7byzswm2lVjcP+ajRjgvsf9WlSoduEN94b2lC+Chc6wT7Pp5cO8mzykGgswJW6kIePbyR2DDjwAzAKIdEG1KO6eo5OCxPElLMgfUuXmDvk9PqMmsIzwOnt2N7ssByfFR8BtnqAGG56kRWurZ/4edPEssd1MvON7GumQ6/AK/TzK4mQEQ7YBok8dGh9EMeFqo41cdXIfLSWp8ORfP6cka78/1MSfYt5lTYkvcS/Qf4vMVJ88Y6ZQTpE2Zz29l+flTFe4F5ov8zw0/AswAiHZAtClWH/frMyr7bbs9TbZxTltTZIuF5wR71YPgos5eocF9Dz9fZ07Jlrk3ud1JPSIyVg8eHWEv8PJbr4NdCnsXw48AMwCiHRBtSqWJtXJZ23cev4v9tkelBhg6QM0vvcfzBbkMc0qmkXpDMc7avqE/xPcvMAes3kqBZ6LUE544yTNE5RJ/T+Ve7jUafgSYARDtgGj7H3E6j4darZfOAAAAAElFTkSuQmCC\"></img></div></td></tr><tr><td>13</td><td><div><img src=\"data:image/png;base64,iVBORw0KGgoAAAANSUhEUgAAAEAAAABACAYAAACqaXHeAAAABHNCSVQICAgIfAhkiAAABQ9JREFUeJzt29tPk2ccwPG37cuhLVgsFZQzDmXDKWzTwSZD1C1k4AXZ6YYwTXZM3IwXM9nFMCaSuRk3sxuzxGWJLGhiNraZTM0ECQYHBF2Jc2XAGCCl0HLogZeWlh5265d/4Ll439/dpy30xy/P87zPCZ19+FpCeiy8E/7HKfkCS/AnATPc+LwFrpreCAd25sNnmhphc/BpuO7wu3Dtm8Vw4t4g7L1zG17Y/hpc3hiG/xnfBOsllYdWANEJiA552W/EC9GNOtiV5IU7c7NhezgFnjTmwJl9dvj0+TNwtukpuKOnB9b7y/j9I3/DB0++DLe2nIe3Wg/BDbM2/n5J5aEVQHQCokOORJPwglFahUvjT8BffX0J3rG/GZ6pHIZ3ZXGe4E6W4UR4EW6ufAXWzc3CmXmlcP3HH8Bv7z8GNxn3wr/0nIRV3wK0AohOQHToBhx/Yi0gKazJfGgOXuifhIf0j+CHw6nwsQNcG+SUFcLpkS2wyxiFZb8J9pVwTHH1c+3ijPPnqzKX4a4iA6z6FqAVQHQCokNOU7je98UV2BROhgsrn4RriuvgE2fb4SFvOmzV74QN4Wk6xj6+uIVD1EQAlOIB9vGGsgh8zZ0GV8/zfdW3AK0AohMQHTr7ravoZJYg99C6FD43q8q5fg8m8Tm8YY59fnSgEy6wco9vpTALXkvQi0HOQy7/wTGp9S3uP7RcuQ/n53Le4fGswapvAVoBRCcgOnTDQ5cxBixGOff2mzNg2yr31dPTZmCfm/sJJksuHJp1wYk4+7SbU3kpsZXf5+m9CzscHji7oRa+eOEO/PnxU7DqW4BWANEJiA5ZMefhhWSFa4ECdxxOsvC5f9fHtcTefJ4TRGZ5rqC3sc+HzdwPmHLzuZ/k5VmkJVIAN9c/Bx///ix86UgrnFOxwnwklYdWANEJiA45KcS5f3hhM+zL4PrZYOb6PKWHY4Qrxpr+YO+C33vjALwph2PKtugG2OPhmGIpruDni0JwfckF+IF3BN6+xvxU3wK0AohOQHTIy0s8G9Tx+FxajbIPyvOc+4+vcYy4coNjwqlC3gEKjfP9GTPX5/MxzhNMlj5+v4Frlfff6YazXz8M/3ZxAC4xvwCrvgVoBRCdgOjQOf8dx4N9Isjz/WiUe3yR5Bhsv8XPb5vimDDyYBKuPrgbTn6R5wSrRp47dM3w/oCl5yj86NVP4X0zPGdoUzivkWLcM1R9C9AKIDoB0SF79Fyv5xv53PYZeRhnWOIYINfwHt7vrp9gZxHPAbJNXP/XpnIT8OYw9/BufMb1/RedH8HRCTfcP2KF057hGBCa5hih+hagFUB0AqJDliNcjy/r2WeMK9wvUKKcy/83Pwa7Bh/CpU72ybETJXDXdY5BcuEof34z1x7ftPFc4ZBtfZ/m3/PsrtNwb7tj3edVHloBRCcgOnRjo31YC8QV3uW1WbkvH1zhPcCb6+76rjg4BgR/7IDTjnwJZwU4D5iNtcFj5kn4JU5DpN0V9XAgxjHM4JyCPTrefVZ9C9AKIDoB0SH7nOzjcQv/ZyjqZB91p/LOUPki7/PL5nJYOboPPnf9W3hPbQvsyPsQvt3xHVwa5Nx/zcI+n25l/raManjp579g1bcArQCiExAdspLOPmMy8fx8QeH7fi/7fEqE5wbLBs7F74/8Ctvb+X9/G/Tn4Ekjf1+i+x7cWVcD1+zgWeLUAs8Zugd74T1NPFdQfQvQCiA6AdHxP0aYmm0UAi6GAAAAAElFTkSuQmCC\"></img></div></td></tr><tr><td>14</td><td><div><img src=\"data:image/png;base64,iVBORw0KGgoAAAANSUhEUgAAAEAAAABACAYAAACqaXHeAAAABHNCSVQICAgIfAhkiAAABQdJREFUeJzt291Pk1ccwPGn5WlLS4W2vAqIvCMiLMAsOjRomBE3Fky2Gb3ZS+LNsiVmFyNxya6WxSwmZrtwy27Y2JYs2zIcwogRpgjIQHC+IDIFWQGVFkrfKNACbXe7L//AuXie393nafvk5HBef+egGWzrikn/D2sSeGlgEL7hnYTrw0442jcDH2qMwg0nzsI9E4uwzfQUNkT0sEuKwB3Xb8GnX/oADut1sNc5AWslhYdaAaILIDrk+bwVPNC5PfDVma9ge+UxeGwpC65u9sO9S2/C0+d+gg2mZTh+bynsK2WfX+GIJVl9HCOkhFXweYhjgM3jhRXfAtQKEF0A0SGneLfzSTr7UHVRA3wmvgSOFQzDd7WF8HjCONxVYoVr/T64LoNu+fM+XBnaD9/Wc8yq2cHfRx+B0s2CIKz4FqBWgOgCiA7ZH+C8/cn5z+F9Rxthv9QNh6QieFsZ5+1Jxxrcl8C1fvIy5/EznVfhk6kcMy47euFIKfcas37O82tp/Pz3H0ZhxbcAtQJEF0B0aNq7vsTqeml4BF/oPpUGx//FeXm/2QBrrWXwZIjOsfF9xhvP4PYHv8CJFXx/+a5NeLtxD1xWVANf7OmHj+kLWF5J4aFWgOgCiA45zsr9cufCEHz0QQi2R16AR4fCcO1xB5y6XEm7uC54ZGafTl1ljs84lwkfT0yAx5I478/lXIGPrHJdkr34GFZ8C1ArQHQBRIdsiGcfKR5nfiBi5zx+6Sn3DrYU5vQ6ezgm1Ddy3u/+/gu4qoHzfPJOzuNvDPHcYDCPY9CLLu4VZtuZn7gfzIVdq/dgxbcAtQJEF0B0yLKTZ4FyJXN6xeZX4bJS9qGRMPfzuW6OEVf6LsBm+2vwuotnjdV6Jv7P3u6Ad/u5rthbzxyf3rgL/qdzAK5K55im+BagVoDoAogOTWvHd+h0aRrO69HoOvxkZQE+aCyHRybPw3ts/L27+BXYkFEBZ6xtg68tcEywuHfC/jaOMf1h5iiz13vhopNVsOJbgFoBogsgOuQcfSIeRKPsg+HYPBzwsY/9ePkb2JnphnNj3AtsuB2wacsdIFmfCpdrefYXcX4LJxaa4ZcXf4U9tRwzUjPVs0GEWgGiCyA65MiWfIAUZs5tdI45t6k1zuveg0b49Qk7fHdHPWz28r7AcwfP7jatDjjvId2z5ILzC7j3GJ5lDrHSWAfP63mvUfEtQK0A0QUQHbKO07zksfDe4FQHc2w5zbvh0WV+37fOef1h70X41GHe5b1w7zf4oyK+/7rMfIWlNg9etvFO0zsHeKfJ94zrEmOMOUTFtwC1AkQXQHTIISv3/9aACc6y8Ad3Pr0J172dD6/54uCFKa4zpvfxfSeaPoPP3Xofbgozh5cU4j1F3Trfvx7gmBTYstexrciw4luAWgGiCyA6ZH+UfaL1Whs885g5ueKSXNgY5H79XwvvE7z17nvwzwNcF5zO5n7+w4qP+f4Qzw71sSfwhla3xRwTCnT8Gy9q+LniW4BaAaILIDrk/rFWPMhyss/HTDzvzy/Mhg1/MF+gKeFd4JYB5gxrSpmXNyRxDPIFed9fjrKPe2I2eFMzB5vcXIdIug1+38C/ueJbgFoBogsgOuTmQ0144LKzD8XcvNf3dTfvEbbc+Rs+EOD5veTlP+1MH2YfPqLhnZ/E9GR4w8ccoDbInGWShb/3BHnvMCWOOUOthzlMxbcAtQJEF0B0/AcGm4r1PmCbnQAAAABJRU5ErkJggg==\"></img></div></td></tr><tr><td>15</td><td><div><img src=\"data:image/png;base64,iVBORw0KGgoAAAANSUhEUgAAAEAAAABACAYAAACqaXHeAAAABHNCSVQICAgIfAhkiAAABRNJREFUeJzt2+9PW1UYwPHecvuTUgrlZ8fqmMjGBLaZMWEaGLqJyXTKEk2MksAydc6IqDFxLxbjEjRG98IYs0RnAgw3HTqDbAuYsAkGtgU3wvjREaRrRuk6aGGUWSiF4tt99w+cF/c+7z7t5fLkcO65zz3PRbp07cyq5oFYcSc/SE2XdxwudPfAiY/UwafPfg77HZvgqvIX4OmwDFeUT8Or84lwwOaCJ6ey4J0Wns+jC8OZET2s1Sg81AEQnYDokDPurMMHS/IiXOniNecc4zXWVmSEX654G+7UXoZbTp1jBu5RMNtyAM7fPQknefPgaPQ27BoOwqmPp/PXLcfDip8B6gCITkB0SDfb/0YdYI7ymje4FuC0GV5D/8Rnwj2LS7Clm/d1fQWPL6xcAy8M3YUDqzp4rYn52HX/wUcPtMEHT1Tx9ydzDVP8DFAHQHQCokOO3I3gA68pG9Zl8D47sSEDHmv0wgP+Ibi+tBR2laTBUoBrhE3DNaHrm3a42sp89newTrAfe4vni7IusEY3wIqfAeoAiE5AdMimFI6BWcv7sD0zAV4eY229UvAL/F7dMbhn9B5s8/OaDCfyWWIqNAFv/oDff9bNOuIvH+uSrF7WBStbU+BgsgQrfgaoAyA6AdEhXWlpwrOAPsGJA+ZXTbBD8sDf7TsL+20BOBbhz9dstsD/bmPdEXOxLsgz74J9VVyTdLPcM7zY/AO8u+INONd5H1b8DFAHQHQCokNe2Mh99eXgCrxqxhKh+cPHvoHnde77H3npCfiLup9hV+3H8MipDjj4J/sOlm38G11ocsP7n/4QPpzJNeP4t/xe+9UntEbhoQ6A6AREhzTc0YqLfErifTspxQbfMPAafPe3eXhnez8cWYzCoRw+CyxOcw1Ky+b+waQmxu+nu+FPH9ojTHytGG4NMf9gzAMrfgaoAyA6AdEh+82srfX3luHwPOuAq5duwTkt7O0djWf//Zx1Fj4fpNc/xuf1vgGuMXE+1gkpBYceyoe1f9jWBX/tuQkffGc7rPgZoA6A6AREhyyZpvCBdSYOnpBpXfsFuDL2JOzO2QL7Ojrh0C7u4V338n2EvDKuSb6RnXDhM+wrRGx74eMnTsL1zVwzitO45ih+BqgDIDoB0SGbVth/1xnYK9RHWRc4bNy3b0niNTm69Tl4ufQw7MzjO0NZY+zfj5yhM4r5bBKN64WH/czno5pq+Pv6JnjPj3wHSfEzQB0A0QmIDnn9nBkfXLGzP59+m3t09k2vwPsSGuCgg7X2/TV813iPjX2A9xMa4RKnHZ4LcU3q6zgNu5d4fK6X+/5xOvYm0+WNsOJngDoAohMQHVLnxSE88KfE+XFAQ2Mt3DvDWr/kqTn4+fxq2GrhGtM8zvMHprnfkBzi94tLXANyKuhidx/slV6Et/i4P/HodvU9QYQ6AKITEB1yaoz3yaCRtXfaIfbS5JFWuGjpS3jKwp+PzYZgkzOJ5zPwnZ6Jhmvw+XyuEUVXefzcIPsMBuMNeEc19wv6rXzPUfEzQB0A0QmIDjksGfCBZOOaEPv9Ouzo57u5bVr2+/21uXBhcwHcc4trgn6YvUNn5lp47zjz0Ua4h5mUxT3Jnzyg5tUY65TUBQfPp1F4qAMgOgHRIRsl1saTPt5n08074DIH/yeorPJZ2JgzAl/+lf388kAhPGDk+frHBplgCf9PcHiQvcO2IfYpjtS8CYcsXGPWzd+BFT8D1AEQnYDo+B/jk4R7g6xAUwAAAABJRU5ErkJggg==\"></img></div></td></tr><tr><td>16</td><td><div><img src=\"data:image/png;base64,iVBORw0KGgoAAAANSUhEUgAAAEAAAABACAYAAACqaXHeAAAABHNCSVQICAgIfAhkiAAABRFJREFUeJztm9lrXHUUx2e5k9kyWyYxacZk0mxj7WK1xprYBgyCFhER3LEWqVqRUqTVBxFqBUUU+lJRCgoR3FBbFQo2NdqmdrHNoomOSSZmknSSzpJl9iWTmUx87af/wO/h3vP2uXOZezic3/19zzm/q77U98Oa6gZLGLI3okq9ZATra83gZHAePD/TB/7w/ADYFdwFfuPQE+DDn34Mrgv5wbkaPn8o8gv4tXffAm+v4fOcy/RXo5K5KQEQ7YBoU5/2DeEdUIyHcEOz1gQO+MfAH/yeAr+/byP4XO4rcP7cKji7uR7c+NNZ8FK8HNz25lGwq0wHHvSfAlekm8GR2TxY9hmgBEC0A6JNKuUDuJBd4A1RpxUcWbCDOzrU4PbTP4L/eu5+8N60G3zQRJ1xYfse8Cb1ODgfm6N/GgfYba4Dxy02cH19DCz7DFACINoB0SbpUpABqqHANPiT7N/ghejnYE3LfvDhsvvAF+e4D2evvg1+NsQ1eaCatcHWp9rA0UIBrI1nwAGzBeww8n5VOd9Bss8AJQCiHRBt6n8X2A947NH3cEPplevgg7sPgM3enWCTtQycjFJ7z06y1mirlMDXr7Fed+aLYKmT7xRjapn367nvz6dYK9iMObDsM0AJgGgHRJu0cvkSLrj3bgGbi6wF9N9xzVrumQA7SlyDplAjuN7CmMctG8B2if2CMj17gI6gHqy1850TS1DHmOwNYCmaBMs+A5QAiHZAtEkbW7mPPrOe9fWcj/vymQdXwIcGuea1evYQtbdQR4QK68D2Va5Zv577vlYVBBddHnAhR61fscYeY+2KARyMUYfIPgOUAIh2QLSpv7nwB2oB3coIbsgU2KcfMt8N1p1gPf/A4+wBOl2s123hNHhGuhWcSsXBXk8TeH7qMniHrhpsclHrX/Px+b7uE2DZZ4ASANEOiDapYQv36dgMtXdjfgc4bBoGj7VzjYUzW8GWPPfp4hpniVUmDiLGcpwF5hPU+oYAuUd3nP+vYq3QEmTP8+E7XwbLPgOUAIh2QLRJ1itTuJDTcV8ejTrBFk8luOk3viP6c7+Cl1/lmtycawcbCty3m2zrwd9+TR0StfWAX699CXxX+jbwiMMH3jdKnSH7DFACINoB0Sb5S9T2DUvU9gPT7NG1NHeBe7Zxdnh25AXwl/+cBDuq2XMcts2AbdlF8P7dnDUeOfYZWJuljlmtbOH/3VEF3jnuBcs+A5QAiHZAtKl7j3shlh2tXCNTiVZwRIqCb2+dBY9PUjeYrOwPjI/yHN+91Zw7qNZxlriYZP/AXkmdMGBkT7HtJu3fH2ft0pnknEL2GaAEQLQDok0K1PXhwsIE16TGzFqhqoYxW+tn3/3iRzwn2HUyDI5baulBvoLPm6R2N2o5l/BlOIdYSrHPH1HxDNCeLp5f+NPPc4SyzwAlAKIdEG1SQ4b1emIDZ3NqK3t60Wmu2f8C7A8Ylp4G9y32guuCP4PDmefBRiOf77RR21vL2FN8pG4TOBnhrHNqIgHWebRg2WeAEgDRDog2SWNh/e9UUUuHvTwPECpyvt/7Bdf0O0dfBJ//nn38UseT4IZ6nuM7dqUb/NC2I2C3RF1hSPLMUks56/9gkb9rzvB5ss8AJQCiHRBt6lM9w1j0ko31fWWJOiAzNwiOpck5G7V2wsOzxe5G1vfh8atgk5ffBHXf9G3yLncnuKmKusRdy2+fY5OcdbosyneDMCUAoh0Qbf8DAACMzATVP3cAAAAASUVORK5CYII=\"></img></div></td></tr><tr><td>17</td><td><div><img src=\"data:image/png;base64,iVBORw0KGgoAAAANSUhEUgAAAEAAAABACAYAAACqaXHeAAAABHNCSVQICAgIfAhkiAAABPRJREFUeJztm8lvG2UUwD32eEscT3Y7Tp04aUqaYGjcNkJJQUkllGOBA1KkgnqoBEJCSPSCEKrEiRMHjlwQCCFViKiVIGorQKSIQFFTqVmaEKdZ3TS2432Ll3jh2p//ge8w826/WTwvL9/31hnp2s/hmu452W//7XnUTbSZwSFdD7g2exv834M7YKlWAWcUPE7nOv8auC81Bnb2d4Fvxo08vxQEX/3AAh5UxsFBsxWs16lcNAOIVkC0yBVTGgf2hy+RF7fAvb20We+718ExzzWwtbYH3ttYpwJWCWw39oF/+vYu2Hi2Gew7S32++3sV/OGlAbDjqABW/QrQDCBaAdEiG46zOGBLc4/MbR2DX/fK4HApAo428P6LP3wPHpmcBi/6/wF/k7sPXjl1CJ72vA3+bIU+6qv3PgKbctR/u+5/rvoVoBlAtAKiRfp8KYDk/PdUHhc4nbzheJd7PBCkD/nYMQjOxRbB9/wl8EaUtYZi/wW8ao2DvdV2sHvqVXD1mQv86XnWEvkyfYLqV4BmANEKiBbZpbC+vlwX1x82uMELtWfgkzLvn9t8BO7Om8CW9n2wPszaoDupgK9MT4D/+HcJfCHEPR3rodOKHvB5nQr7BapfAZoBRCsgWmRf6QgHKs5WcGqHcT8c84OzrR3gxj1ev1tx8HyBeYDBRZ+ynNkAf+1m7fBKP+v7mUIvWGfa5e9Hef1mms9T/QrQDCBaAdEiNzSzT5+MF8EOA3Pxk2b2A/wn+sH2mVvg7UkPuOigjynfJreOvQP+8W4K/Hi0Cexsy4D7EqwtMnn2E6ytvF/1K0AzgGgFRIv05/oynIBcK+OCfI65/nwLfUY10gBeKtCH6Fdy4NI5O9hsYa3gk9g/CIWZuzvcLeBa9RS4oxIFdxpt4D4bfYTqV4BmANEKiBbZkmNc1xvJShPn6aOJurgcZ5wdP8Hc/GAwCV7eZF4hOekDYi0+8M7hPLhnyAv2Bljvt7m4xxv1/HuMOq0nCNEMIFoB0SIb9ZzPS1bapJarguPNjMtjNubWj6sJsMXNPv1wmD4kXGHP8XBtDmxrYl8/OLcJnuphnmLXsyco1eU123ktD4BoBhCtgGiRzRbm8oYjzvoC6ztg4+Bp8FOZcT1moE/oVWK8/slf4NEsZ3uz4y+Bd+48BDdO8L2/GwsL4IEs5xoTo0NgR5k9SdWvAM0AohUQLdLa1jYK/OIx6/1QmnE2WmGcl7zMC+Zvcc/6XngDHGvjHMKQ4O9V8iHwdoa5fGKok/dn+S7yZJn6XrTX3W9k3qP6FaAZQLQCokUuVbhnLHU9PXc78wJLlfV7Zbcu7o6wXh/Oc89dv/EFeMTMWuCggbl+1DYFble6+XyF+sUO2Z+Iejgb9JQ4R1D9CtAMIFoB0SIXU+zb2ztZ/2cztFFTlXvO1MV3enbC7LndD/EbpDMRfnPkPfMieK+JcburkbPDFQ/3eGeNPkdnfgK0Mu3QRbJaLQDRDCBaAdEil62Mi/E8c2ubiXOBgoG1QibJHlv1Aev/tMLZ3EqC5wei/MbnytWXwQE/fcZaij5AitwDZy2cHc7c/BL85vufgFW/AjQDiFZAtEiPfp3Fpj5I8lvcjnPMpU1mxmVzid/xpdfYh4+6GHcTq3w3uJjmnODCWyPgvIG/Z8uS/Wn6sGCCPut0P99jdBb4XaLqV4BmANEKiJb/AfCWipmAZR7vAAAAAElFTkSuQmCC\"></img></div></td></tr><tr><td>18</td><td><div><img src=\"data:image/png;base64,iVBORw0KGgoAAAANSUhEUgAAAEAAAABACAYAAACqaXHeAAAABHNCSVQICAgIfAhkiAAABPNJREFUeJztm9lvG1UUhz329TIeO97i2G0WHIcCbZAJJBC1EktBFQJRiVBVPACPlQCBAFWqgErAG6/AI4UgEKglpYAKqKhSAwoPhSgSFJqm7ubYSbM4i5d638JrP/8D92HmvH0Tj+bkzD3n/u65d5Tvjp3ZMt1ma63C7WhaSl4Be+094IWRbvDaT1+Dd3dtgIeeOAyeq7bAsUIWnK4KcCFQB4cr28GR+RQ4N6yAp6d+BZtNOjcjALIdkG3KDydOoAZsqV78oFK28oa6BbysrfPv2i7w+Zmj4IPRMXCfpRe82FEEuzQ6XG56wGqDP1hP5MAhG2tY3t0H1v0IMAIg2wHZJlbtPlxwW5njftEE5+ucl50O3r8tuQQOe14BJwIucFDlO1jJUocEyhlwJkXd0AixRu0qLvB5wQrY1kFdovsRYARAtgOyTbSKzCnhYkxcjk5woXgd3G9nDrp7beBbJTvvT3WAZ8rL4NEIn1/IsAaVtnPe73FS+6+E6K9do84IaKxxuh8BRgBkOyDbRFhlTmkKc6TS3AR7FK7/tRprSLlKLd4RZP9gMT4FfnhHP3htG3VFKUfd4HJThzjqXHssXZoA98ceBYsya5LuR4ARANkOyDbhVtAOMG22OK93bVJLb9RYI3I9rAH9gQD4/Q+PgWOxGrizdSc43s0aYtt0gz8a/wQ83Pa8N3r3gGcr7DEOeOiv7keAEQDZDsg2kVGZ060qa0DD3wD7cqwJzQa1/83Zm+DXDh0A//jHX+CESp3hv+AAu5epI54uPQ52dj4AvnTuFNg1Sh1Qsxk1AGYEQLYDsk34BPfamuY8uNZkzpvbdIIpz/s9bT0/3ypzfOTJ+8FzpZPginYX2GLeCZ5I/Q1+5G7WCK3nPvCwzw/e8tJf3Y8AIwCyHZBtYqG+yiv/JoEemxMcHLwDvJWnts/VmJNp8y1wdJHr/SEL5+kXz3wFHo2yh3j5yMfg1ruT4J6xBNjuZ80peOmP7keAEQDZDsg2EXRQe6/0cR72DTBnlTx1QD3A9fvPbx4BDzx0CNxluQb+Zfks+F5lBRyM7gbvm/kCvHMPe3zhUBd4SbkBrqwaOgBmBEC2A7JNdK4EcaGXaJqMU8sPdrOHqKhcKwwefgd8coI6I/Ie5/3MaT4wmWC/YOQAa87zG/vAIs7zADavCna27SOUEvRf9yPACIBsB2SbaFhLuHCjxnOC5gp7fOX/qAviBc7r2j0D4Ne/jIHPfjoDPv795+CjY2+Bf//gM/DbL7MGLFar4ECV+whVrW0fwsH/R/cjwAiAbAdkmzJ5/BQmxisKtbXmZB/dYmeN8Klp8KIrDM6muT6fX2e/4ODVafD0ENcSc99wH8AaHQQP7N0P7l7jXmAwxPMPqolnjXU/AowAyHZAtgmzOYQLHhv3BYIac6ZWYc6LNM/l5RSeI9QqXH8/qMyDL/gfA89OcW9vb/QF8Le/jYOz1/kO+17i+YBCijUh7+S5Q92PACMAsh2QbcLv4Xp7Q2GPr7xKHWBSeK7P0eI3OR1F9vHzbTlvCjAHRzXWjJqFWl6c/hP8zP4dYPX8RXKE3yRlrXzH9mLbXqdJ52YEQLYDsk1k6vzGx6Vw3rR6qROE+TK4tEQdYEvGwZ4Wc/piiuvzq5l/wM89NQwe7+bzR6ZZQ7RnX+Xzr7G/EWk7J1jgsUJjBBgBkO2AbPsfncNoxmpuy7IAAAAASUVORK5CYII=\"></img></div></td></tr><tr><td>19</td><td><div><img src=\"data:image/png;base64,iVBORw0KGgoAAAANSUhEUgAAAEAAAABACAYAAACqaXHeAAAABHNCSVQICAgIfAhkiAAABQFJREFUeJztm9tPI3UUx2fa6QWYtrS0lC67gNDFBZXIghg1JsYHUbMXNTEafJBoNpv4YHzRmJj4pjEmmrgkGq+R7Br3FnQ1MWpIDOvCbtxdXdmFLaZQy6VQKC3l0in0Mr764R/4Pcyct8/QGU5Pz+/3+/7O+Y18YXpMl/5v2iLQnt8PlmtlcDBu5e012+CxzRk+r74b7I2cAZ9oPgTu//w0+Nn+w2CpVAOM5FPg5Xn6p9bz+1kkg5sZANEOiDalK13GhTHPg+D10VPglvs5BlOOFbA6cRs8df4S2HnsX35+sw3c57wOnpz5FSxrL4LT6iY4qHjAP0Z+ADeoPWDDZ4AZANEOiDYl1WjHBbvEMT2cXAY3lPJgTQmCk6EiuOONCnB8nGP03BTHuEebB3d++Bb41LktcCr1Dvh4by+469ED4FY/n2/4DDADINoB0aYsaRyjcxZq+eUEtbS9ZQE8MvAz+K5DL4ELkgN8puF3cM/BE+By6idwzDcNzvc0g/sdH4BvXb0CPlt1Fvx++G2w4TPADIBoB0SbUkhw3a4OsTzgf+wo+GIpBg64GcNsKAtumo+Sfe3gsn8VnLYmwB3p58GtuQj4o7Eb4M7qIfDT9e+CT06w/mD4DDADINoB0aaEilz3vcUSOCOT7V9wzF7YagQ/tWgDa40Hef/wP+CrVWPgZ9zU7ncUxsHxxibwI3Ws8S2O3gsuVAGlsOsBsOEzwAyAaAdEm7Ll5BjXrTvg7gbuFWKt3G8f0/n3jM45IjgXB5fW/gC/WqDOyFRX8v8lqSu8raxHpNPsU0grk+TcIDDgYk3T8BlgBkC0A6JN/iU2DvFv0dlbq8l6wTlHAbyhOcEJDxfevTbqjLoo6wuRMH8Db3UGrNt2LeQW7l3kDOeEuQXuPTp9vD9bwz6E4TPADIBoB0SbsmllDHYS1PLOkAZemOSYd5XZR9B81BW5Dd4/tMyanbbE3t5zd/N8wKxCXeKWOQdtlqk7wqoPrFc2gGtX58CGzwAzAKIdEG2KuktK553U4sv6Gnh8Ygls8/rBqp/r/HsfD4DD03t5/6dPgG+62Kv0FDjmizrnKDVHXeBQOAdIiVngd1vsaxg+A8wAiHZAtCnOXfv1rV3nBWZ3GKPBSmr1gXAtOBrjGZ/+V14Av/k9dcBg/h7wdoC9QJltAKnooy7wVHKv4sytg23eenCntAE2fAaYARDtgGhTku59uGAtUhgs+jnGE9deBp+2sHcnP0lu+5LnBv9+jf39a3mu89ltBRwK8ByjS6UOkGzUHbbC7r0I+wY3iqwxGj4DzACIdkC0yZ/9FkVN0L4njQ+sO6j1V6Kj4NEJnsGJd/F9AC3Odfe4+07wnwnqjv0P0cGjfu7nnTnu/7dLnMMUlecL5DyfPzpyGWz4DDADINoB0SYPzcYwB1TEeJa22Mx1VtFdYI+f7wT9tc76QXesC6wG+PyIj32D9QLPHrc7OSfJq9QB0xs5sM9SDdamWA+46T4CNnwGmAEQ7YBoU67cnsKF3gNcNyuSnAOCNayrJ/Os8aWvc8x+kv0WXFX7MPjxnRA4tsa9iNfSAa7M8P2FPfvqwGWd/qfbk+CRr14HGz4DzACIdkC0KYGTX+PCpcN94J4ejqmolWMwWGbvT2+m9lfl+8BtCe7XPS2s43sl1vwu3uLZ3z4P+xaJHZ49bqplTXAmSV0x/M15sOEzwAyAaAdE2394r4bdmS3YmQAAAABJRU5ErkJggg==\"></img></div></td></tr><tr><td colspan=\"2\"><i>(12 more)</i></td></tr></tbody></table><style>\r\n",
       ".dni-code-hint {\r\n",
       "    font-style: italic;\r\n",
       "    overflow: hidden;\r\n",
       "    white-space: nowrap;\r\n",
       "}\r\n",
       ".dni-treeview {\r\n",
       "    white-space: nowrap;\r\n",
       "}\r\n",
       ".dni-treeview td {\r\n",
       "    vertical-align: top;\r\n",
       "    text-align: start;\r\n",
       "}\r\n",
       "details.dni-treeview {\r\n",
       "    padding-left: 1em;\r\n",
       "}\r\n",
       "table td {\r\n",
       "    text-align: start;\r\n",
       "}\r\n",
       "table tr { \r\n",
       "    vertical-align: top; \r\n",
       "    margin: 0em 0px;\r\n",
       "}\r\n",
       "table tr td pre \r\n",
       "{ \r\n",
       "    vertical-align: top !important; \r\n",
       "    margin: 0em 0px !important;\r\n",
       "} \r\n",
       "table th {\r\n",
       "    text-align: start;\r\n",
       "}\r\n",
       "</style>"
      ]
     },
     "metadata": {},
     "output_type": "display_data"
    }
   ],
   "source": [
    "// torchvision.io.write_image()\n",
    "let results = plot_sample(intermediate_ddpm)\n",
    "results |> Array.map (fun result ->    \n",
    "    let scaledImageInfo = SKImageInfo(64, 64, SKColorType.Bgra8888, SKAlphaType.Unpremul)\n",
    "    result.Resize(scaledImageInfo, SKFilterQuality.None))"
   ]
  },
  {
   "attachments": {},
   "cell_type": "markdown",
   "metadata": {},
   "source": [
    "# View Epoch 2"
   ]
  },
  {
   "cell_type": "code",
   "execution_count": 27,
   "metadata": {
    "dotnet_interactive": {
     "language": "fsharp"
    },
    "polyglot_notebook": {
     "kernelName": "fsharp"
    },
    "vscode": {
     "languageId": "polyglot-notebook"
    }
   },
   "outputs": [
    {
     "name": "stdout",
     "output_type": "stream",
     "text": [
      "Loaded in Model\r\n"
     ]
    }
   ],
   "source": [
    "// load in model weights and set to eval mode\n",
    "nn_model.load($\"{save_dir}/model_2.pth\")\n",
    "nn_model.eval()\n",
    "Console.WriteLine(\"Loaded in Model\")"
   ]
  },
  {
   "cell_type": "code",
   "execution_count": 28,
   "metadata": {
    "dotnet_interactive": {
     "language": "fsharp"
    },
    "polyglot_notebook": {
     "kernelName": "fsharp"
    },
    "vscode": {
     "languageId": "polyglot-notebook"
    }
   },
   "outputs": [
    {
     "name": "stdout",
     "output_type": "stream",
     "text": [
      "sampling timestep 001\r"
     ]
    }
   ],
   "source": [
    "torch.manual_seed(0L)\n",
    "let samples, intermediate_ddpm = sample_ddpm(32L, 20L)"
   ]
  },
  {
   "cell_type": "code",
   "execution_count": 29,
   "metadata": {
    "dotnet_interactive": {
     "language": "fsharp"
    },
    "polyglot_notebook": {
     "kernelName": "fsharp"
    },
    "vscode": {
     "languageId": "polyglot-notebook"
    }
   },
   "outputs": [
    {
     "data": {
      "text/html": [
       "<table><thead><tr><th><i>index</i></th><th>value</th></tr></thead><tbody><tr><td>0</td><td><div><img src=\"data:image/png;base64,iVBORw0KGgoAAAANSUhEUgAAAEAAAABACAYAAACqaXHeAAAABHNCSVQICAgIfAhkiAAABQVJREFUeJztm9tPW3UcwHvo4bS0nLWl0EJLx3EC4zKCBnfRoWzOB4zGy1zUGI1ZZMuWGJ0xmj2oiUZfjCExGh/mi7rEzMTMZQvgy5LF4ZzB1Tl0G85CuYxLb6P0Ai2l9XWf/gO/h3O+b5/DuXz58v3+ft/LD+n40cMl012S8Zy/G007OxvBHfVHwLFCNbhUrYIj5t/B9sV58GSsDdwYqASragvYWiqCbekUOOdo4P3SMt83VwEm6VAMA4hWQLTI9lYrLgzUvA4OS3ZwJM4YVP0FsHktDJbUWfB79i/B1uZhvm/wM/ChD74Gu26XvV/KgitXpsAFRy34ThN/X917gGEA0QqIFrnrgcdw4db6KthpbgcXNsJg78YaeG7VBu5YfxDs+94NfmJ7FDzau43fO/gkOPkSY3rLtgFwNss1SUlzDVvM58G69wDDAKIVEC2yK8MYUauYO89VTYNdOebqES0HLuUk8OfnRvi8dRR86jJrje4k9+mzX7jAu39zgrP2i+B7kvvAi0XmCdX1XKN07wGGAUQrIFpkN5cA07rPB54Ifgfu8r8Ibpxj/Z2vZ32+UMF+QK7fC34+xJhO9yyC3WW1h3dnjHyTecRC5grY3/E+2LTBPEf3HmAYQLQCokU+Pc99X8szpvq0N8Gl7CTY5toAZ8tqgVdNO8BJbZ1sSYCdCa4RThv1i63IYGWRPcl7F/zgoT+/Ae99+ShY9x5gGEC0AqJF/ur0u7jwyW7u8wnLX+Bo7Cb44mbWAtZlC9jSyhh9wd0Kvqz2gL2pn8G3pvk3+reBtYPDze9tXdsE/ugY84LevawtdO8BhgFEKyBa5D1KABda72PPzDXLWV5CaQI/2sCYW/b9AY6Ps9gIWVbAuyKcJQ7Vc1ZY62fP0nzpOLhR2wr+pchZYsvmGrBDiYN17wGGAUQrIFqkh197A+cDDjzOPn+/yhjO2Fnv5+2s19en+HN3C3tyvml8zpSsZj/gqsK+fpeZ9f/1+WbwQgtrkxMnk+BehXOIb0eugXXvAYYBRCsgWqSPT3UjKMcvcF/fs4+5vtOjgNscjLGUxJ6bo8jcX4oyN3cpzOXHzBlwJm/m8wrXkJSPc4jYLPU5ONUHfivKHqbuPcAwgGgFRItsi2m44Hf9Bx42M0aPBHaBf7h2Dryj+RFweuY6uC7MNeSGs+xcYHvZmSTb3+DRaBW4J83zBLdd7DmeybF/8VxXP1j3HmAYQLQCokVuVxlDP40wF6/LM2aDuYfAv5ZOgiOjrLefXSrrF6hpsCXLWmIyw+/9M8U8QrNzbvHjEGePgwMfgot5rhk1oTtg3XuAYQDRCogW6fCBQ0iuPW/vxw3T80PgPt8MODTBNaM74AH7MtyXL0S5z0+dD1OhUtnssa2TGgcngKtbNPBYkM9/euwEuNFLfXXvAYYBRCsgWqQrZ17BGpAo+/+AJo319qrEGLpRuAouxniW99Ik6/nYGOt1rxYC25c4/5fb+PzweFnPMb4Efmf/IDhfRX3qqlh76N4DDAOIVkC0yOb6Z3BhKVd2wzJz/WCAs8MeibM9b2k7uKKggd33c02RpafBjk2cE6irnFM8xdLFlLJyzah1MeZXQmGw1cmeou49wDCAaAVEi1yRZsx0VjJGl2c0sD3AfdeS4vmCVJy5u6eO+7inwHN8S1meK8xLC+B4ivu2xU0umTmHSMYiYKfCfkOlapwVhhgGEK2AaPkf/95rYoxmCZoAAAAASUVORK5CYII=\"></img></div></td></tr><tr><td>1</td><td><div><img src=\"data:image/png;base64,iVBORw0KGgoAAAANSUhEUgAAAEAAAABACAYAAACqaXHeAAAABHNCSVQICAgIfAhkiAAABQtJREFUeJztm+1vU2UUwHvb23brurZr6yjr1r2ogzmtGjc0zBcmDNliSAwGxEBClA8QWEYwJiBGpyaazGBiQkhMSOSDjBhMVEKiYCYlbrylQtx0Mldlk7FN1nXd1vb2vX7l13/g+XDv+fa7z+1zz07Oc57znPNM+jl4s6C7T0wR/f2oS4WughMtdWCr3gh2GVxgtwPT68LzafCSQQI3zHH8npss3VoCD4f+Bre2d4KXLTl+30DmX6tC0QwgWgHRIldY4nhgclWAL97iuCMTBUd/soM9u5Pg5QkLv2gllxo4HC3nmreNpMBnJjne0cTvZ/LzYElhjPE5GbNU7wGaAUQrIFpkXWQZDwqVXKMvtj4IPh/Ogr3jJ8DJv46A0zbmAUY9Oa9kwPHFanBP8CS4q30HOOW9A74ZMYGfaOT8VwthsOo9QDOAaAVEi2w11uOBlOALMWcN2H70VXDdvs84oYcTuDNck+G8DVwplYNXnzoL/qreAR5rKwUnQz7q28S8pffYKfD+fW+CVe8BmgFEKyBapEvBEWzMqQRzb0vf++A/jveA20eZN+QamdybY9z3J43MI957fRM1emkr0BCaAU91PwCu7ZsAv/PF52DHFM8Odh9jiuo9QDOAaAVEi6xLMle2JbgvB1byvJ2/7AGHG/LgbIwfKE1FwOY8c/0PTn8D3nWUeUBi/y7wntu14P7GEXBu0QqWdaxfKDMKWPUeoBlAtAKiRS43cc0U9FwzgQ3fgh/5k7m9bN4Cdrk535LJDI6mWTOsLvOCLxxirm7KFvUNXukFb9/yFngyMc7fW++BzfGHwar3AM0AohUQLVL/wAUk6ye//AgvdOY6wM1t7P2VlT0NLmn5HRwzNHPcyLwhHWavz5ZnzNCvYP1gMMazSuMAY9b0xtXgZO4u2FXQ+gIQzQCiFRAt8kLwCh685v0a3DPEfdkXYC5/uKMKbLtbCTY9yjVXGOS+HmucBlfNsp4wp7AeUJ7i78Mb+b1mH882Q5kxsEepA6veAzQDiFZAtEj/DHyHPKBv6AxekPXPgn+9Ngfu8TP3f757Hfj7Gz+A2x0N4D3WT8CHLB+ClQjP/8OtjBnGXy6BK+4wRj3V2gaOZ3inSPUeoBlAtAKiRbo2dBkxIGthDXD7tvXg9Zt4FpiXngG3vfw4eOr6ELjUxn37R9dt8JplnhWUIGuQb+/9GHxunPWECSfvCW71HgCv0LNoqXoP0AwgWgHRIpskrnlnmnX8dXt3gkNZ7qNH/E3g306wJtf17jawfZB5g230OPhg7ST48NRF8JJ/M9gfZ+9yZQVrliNZ9i5rqtmrVL0HaAYQrYBokSU798VCkUm8fubaC5/yPJ5/iPWArm4/OJHkhGUtfH+zbzd4R98b4KYDveD4af7ek2bN0FfP+wDzljJwbsENVr0HaAYQrYBokQKBYWyMvmr27pILvPc3OnYdnH5MBq+1sH6QkFkTzC2y5hczlIAdkVHwjVX/guum14JD0f/AT8pF9xmc7DOYXMxDVO8BmgFEKyBaZFuOa3w2zVzaWnTX19bBNR7uZx/BsPMFcGa66P/+ZJ735aJeoN3De3w1U7yrfGWOZ43OijXgCXkWXKVjDHIucVz1HqAZQLQCokWaPMc8oOBhv32hhPu2ojD3DoV4VlhVz5iSMz4HduSd1KCEMSKZY4zwunkfIDnDvGO2nGyIUV9XnvcDDp4/Bla9B2gGEK2AaPkfdKt4hbLHjP4AAAAASUVORK5CYII=\"></img></div></td></tr><tr><td>2</td><td><div><img src=\"data:image/png;base64,iVBORw0KGgoAAAANSUhEUgAAAEAAAABACAYAAACqaXHeAAAABHNCSVQICAgIfAhkiAAABRlJREFUeJzt29lPXFUcwPG5w50ZYBa2YViKYYvSiq0NoYJWkbZEo5UaY4oQNGpjLEYrxhixkZg2GjVqH5qoiRoTWjWtaBVi2tqUrUBYZB8KstMWGFnLMMM60wFf+51/4Dzce94+wywnP876O+dK9X83bGnuKkPaurupuVrRDG+EWOCEPnxcE2lNhXumR+Go/fOwe9QFv5CWCf81UgM7DTa4NPdTeM5kgM3LG3DAuh7WahRe1ACIroDoIlXVdaATn+6pxRsK79sJT3nYpxxDdrjTJ8EWayy8ouuG0/3+BXOuCf5+Qhg8JMfArfW98JHcE7AnmN+vC9DBim8BagBEV0B0kUNiGIPMMvbR87MzcMEedqq15CTY6vHC8/NcB8iudfhfQwBsTLkDN22Gw3pdJByeaobfPvkR/FlpCRwRyHWC4luAGgDRFRBdZPfgCF4oT3XD++KL4S9WOCZolxfh8ED+QFA8+3CiljH3VHGv8Xze03DrZAscJ7EPp4S+Clebf4D/rDsHv3TgNVjxLUANgOgKiC5yo4NjwIOxH8Lf/7gAPxJ9Ex5K8+v0cdOgzz4Le83/wbGGKPjbsjPwaDvn+eQj98ODFSdhZ9sqvBTJvYjFyTFO8S1ADYDoCogu8kRlOV6YNXCeT93gPJ+d+xYsuTrgJY2Df0/lvL0toRTerP+GNdpg/uGdEuYXVqcOw27jJPzkxxwzBgZM8FQY9yKKbwFqAERXQHSR8z//FS9Ur63BUZuhcHHXFfhCFs8BJho8cK13EB6/UAbnxxyCr/mdS5im0+Hfv/oSHlmcgrPXUmBb+BgcIRXAim8BagBEV0B0kX5puYxzgYkbzOmN6yPgLB/n3UUfc4g3jXGwqTMZLrdXw8kZm7DnH74/ycS1/bVe7l22F+XDto6L8LHXC+E1H881FN8C1ACIroDoIksmrvVXPOzD7wVxXj3bxr1Cl4dr/5dj+X2r+5iTKzBZ4egVnvXZbU7YrOU8nvc4/2f1l87Dn7xxD+ywMP9gGeW6RvEtQA2A6AqILrKhOx4vpEVwnm8e7IGrfMzTjzRzXn7ig73wahj7+HA6c3pddSvwrXTmIK1n2WfHDNfhF7OOwu1x0XB1KfMNeksirPgWoAZAdAVEF6mmifcE9ZKMN1zXMifXVHMVTtLPwa3uPnh/JvcWt13MEUYefoq/9z7vDfYncQzJSLgX9hh47y9w4BZ86acq2GDk3kPxLUANgOgKiC6ytM6zMkcEz/rMHq4LHrMwz66x8S6vUTLC1i2e/bVl+F3c+4NjTsBzzCmue5lv6B7kvcRns9Pgcw1t8NGi3fBQC882Fd8C1ACIroDoIoeY2Wd1W7xLO8ftuKa4/hR8TPcQnJezC57ZxZxiYiXHEKe+E455gH/f6fc8wkj0Dbi3kRW0ubgu2JfyCuwLW4YV3wLUAIiugOgitdkr0cluL3Ee/u3id3Dw3j1w4Y6H4VNfX4Y7FnbAB9Jz4MYJ3hfY7uA6JHQ3c4zeJj5PcCcnCN7m5jNFPXPMN5QUvwkrvgWoARBdAdFF9vqt1W1G3qFZ0vjgQ1qerV1ZboVdMmP67kF+Xp/MMSLPmwdvBTGv32Ti+X//Ku8CB/UzP2EfexQ+cfw0vDTLMUXxLUANgOgKiC5S3RBzgsE65sw2nTyfL+uvgHXDfP8zB3keH+r3HGFt1zAcEs9nhjKs3N93To7Dnpl++OfKdvh4EZ9vSI5nTrFvgXeXFd8C1ACIroDo8j/5noqB8SRvtwAAAABJRU5ErkJggg==\"></img></div></td></tr><tr><td>3</td><td><div><img src=\"data:image/png;base64,iVBORw0KGgoAAAANSUhEUgAAAEAAAABACAYAAACqaXHeAAAABHNCSVQICAgIfAhkiAAABRZJREFUeJzt2+tPk1ccwPFenpaWu9bBKjC5zM3NTafQ4S2OmBFgMTqzwAIJcWxZRrJN0EXfbG6OvZhjMW6LcRnBgW6JGpcRjcpUMAgoVynFiLAiAwk3gZZyaaGFsrd++QfOi+f5vfs0Tfvrybn8znlO1bU1bUuqZ2LJ7XyWqki9Bg4IjYYzPs6C9311CE7XRcBn68/CDQMd8NoeP6yP2ASrX7PDsTN6ePFVfv9VawVs2TIJ89fJMJQGEJ2A6JA06jm8YNIGwv3zo/DpTznGqm/fhX+7Ug4f/b0ILiqthFNb6+Gh6ftwrIEJ61R74dE1L8CXT/wFFzqDYFvGalj2PUBpANEJiA51/b1m1AFlF47gDW+89zOcuKIdjlptgb85fh4Or7oG307kHBOckwvn9nLOqbzDOqEzh2Pa7WDdcGBxB9zo7If1Kxdg2fcApQFEJyA6JIOBbTDSMwO7/7PBT25xTJaog+Huqi44QbcRNvdjylGFWYfhx+s5B1iOvA8PjzbC20YG4TsGjvmgjWvhjtMlsOx7gNIAohMQHZI0u2xdDXke1k1xTEUbm+Harn/hUMsrcKuTc8jB18PgubhueLDCCrdkPYUt2l44LcYHfzHigiOdbthv5xwj+x6gNIDoBESH+sbdBizME9Nc1/8pOAGnmXkm15j7E9zZeAseSuQc4neGwG8/vQrXLrFO8CSb4M2eSPjz4Adwca8Obq/jnPH9oZuw7HuA0gCiExAdUoCBh26SxHPzxn3r4aCkF+mqUngouA+e8vPzE0O4rpe4WYf42hywPoHreMrWe7DjCues8YkY+I8inkk6vdOw7HuA0gCiExAd0tIMx4TWxDO7a9uS4ZyaBjjUmAR7XFyX42Y5pl2Gl+HkzDfhLNND+IzEusDoTIFbNj2C8+ycMy718llnfvwKWPY9QGkA0QmIDsnoXMQLP2i4v0/1BsAVu7n/7nA1wVVNPHfviWDtvv0x55yur3leUG/neYEmjXsJ01buRcyB2XDpZea/Y+Ai7DB8yc9XyTyUBhCdgOiQ+pr+xgtv1XHd3vPhLjhK+w6cf7EctltZi+el8v7BunjW7tu9rDvO9anhY0HcKxyrTYdVY3VgSvZL8Mgg5zDDc7yzJPseoDSA6AREhxS2i+toyk6eq9vMT+Bv9+fDhwt+hE89+ATuaOIcYo5nrT4Wxzs+ezI5RhvUrPWzTa2w08UzRqM7AW6pZp1hTPbCsu8BSgOITkB0SKpZ7pelON4F3uDjs8Ly0JPwwbJzsH6GY3CVdQD2mHmm2F0dDleb++D4tM1wYBv3Gr4Q7h3a/+Szy+Of8c6Tf1yZAxBKA4hOQHRIpmiuo5Nurvvu4JXwgTyes988dR2eS+deYdz9C6xzsU6oXeT+fuoh7/0FqPj9u2NY6ztTuffo4/GEShNuhH0unjHKvgcoDSA6AdGhrmqu4X+GFrjOavXcrw9YeVfYHpAGP7r+AWxO5P7ftOVdvv/kDTgqIQNu6a5hwvd5pyhpwzr4o6JCeFizbE5xe2DZ9wClAUQnIDoktZ53gzXaKDgjl/f5L3x3GPbZ9sNTy+7vH92ZCc9p18CWwlh4lYFngHs18fDE8v84zXEvMO+W4DAtf9+kn/nJvgcoDSA6AdGhrrNVog4YUbEO6PRMwC0FxbDNwecIxWW/wqGRvLfnH2BdERk4D+u83JtIRq7bPi/HvG+Rd5q0C7yT5Ijms8zJMc5xsu8BSgOITkB0/A+FgY/ohxE+RwAAAABJRU5ErkJggg==\"></img></div></td></tr><tr><td>4</td><td><div><img src=\"data:image/png;base64,iVBORw0KGgoAAAANSUhEUgAAAEAAAABACAYAAACqaXHeAAAABHNCSVQICAgIfAhkiAAABRtJREFUeJztm9tPm2UYwPvRM5RCocWFMlraDraxwULYgm5jYpwDI9FoiMqmmWMe4jwtXGkWTdR42IW70UxcssTJTKYSjDFDhAzcQSBjjEHZyFqOA9ZxKudSKNbb/fgH3ovve+5+3/fSPjx53+d9TpUu91yJqh6S+/OxD6Oqt7EWPPXPLXBtcAZsdcWDE7Ik8PLsf+B7CWtgR24yeLCN+sT7+f7A8wfAW/snwHtejQPHLKWQVTIXxQCiFRAtUkn+XviAok9ex4KfI+3gmR9bwCtqnrlXyp8FN6yugK32ZXBCkGfSFNaCix/dBm5pd4EXDPQRPt04+BfjbXDEuBss+x2gGEC0AqJFk70zAQ+083fAqdpssGsTXIbq0lId+NvWavCaays4Y/ERahClj/DNJYH9kQFwtov3+sBnf4FfPLYX3NW+EewsYFwi+x2gGEC0AqJFKi87ikPdumEzFhg9PMPRbfQZ6YabYF9qNzg8yVzB1j8CLgjuAVtKeE/bQhbwiplxR15gEvzvKfqMouO5YMNKJlj2O0AxgGgFRIvGe2cBD+wHHeCyad7LjYFZ8Ej2unt9knFEeIXrdUke8IQ9H+xU68CxM2pw6qgV/HftWfDht98F9+npsyxW/r+y3wGKAUQrIFo045868SBk5j06aiXnhPRgvyYVvN3CfN07HwIvuJ4G6+fmwX0Di+B0J+sHA53MTV7wMDcpefMLcHX1d+DEWcUHQBQDiFZAtEivnXiZfYFdR7Eglum6qrn5PHjatK6m13QJvFBRCLa0zoEzc5lrPPMYa4B2DeOIW6cawZ5E+qBF+yC4obYDXFX1K1j2O0AxgGgFRIs07LsIH/DhGM+MN5l9gOQzieBrlhxwmpq9P5eTsfzqBX6+JzcMjlnIAK/1sMZo0jO/355SCq65fAa8ofQw+J1DBfw+lcxFMYBoBUSLJhRgnT10k7H37sdPg2udleAdmby3Db6L4LFF5u+xH7AG6BjfAj53g/MIpZu/BDdqlsBNf7L3l51ZDi7etY/66NlLlP0OUAwgWgHRInVe9SMO6Om+gAVHzvOerviNZ2ztq/fB6kLW/O4usaaYouY9P62NgPM62GcYU5nBA8NBcJeWNcTnQpwP0LmbwWnrfJjsd4BiANEKiBbpeivnBC06Ixb4V1jT+6jva7C7iz5ifD9nfAZnTOA4N2tyjt4H4HA344oJG+sNRzLYO2yznwSXLrK3WT+0yvUNbWDZ7wDFAKIVEC0ai5736PQ4Z3etEZ7xnCXe871TV8DFoy+Bf3dxHiDhHnuHIw4N2BjnBe/I+hjcVUf9HgTZh/gh3g2Oc/D7Y7NY5JT9DlAMIFoB0aK5b2Qsbraynx7j40xOfVUAHNnE+oHN+Ad4i5f5fzDJCY7v4Of7pqiP1P8N2J/PmqDtJ57xE4VZ4NkA9auWDoJlvwMUA4hWQLRopBBj/Ykoz/hGdxrYZL0B3qdl7H7XzdjbqGY+v2zje7t5Cjyaz3mB6U6+t813UZ/v94O9I0Ngfzt92rC+Hyz7HaAYQLQCokVqbTmLekB0jTM4OgNrcFE9Y/fyimPgQ288BS66Sh8QedIHPnmNccBQmQEc9NMHaNzsM6wN8/PydvL3Ael6zg8M1lF/2e8AxQCiFRAtUs3pJviA1Azm24lpnNdfjOfMjifMuv/xys/59w7a2HKdsXkgn/l8TbgebDdxpsh8m73EkTjWGJfHme8/YWKN8L3Kt8Cy3wGKAUQrIFr+B3Bwg/vQeVBeAAAAAElFTkSuQmCC\"></img></div></td></tr><tr><td>5</td><td><div><img src=\"data:image/png;base64,iVBORw0KGgoAAAANSUhEUgAAAEAAAABACAYAAACqaXHeAAAABHNCSVQICAgIfAhkiAAABRFJREFUeJzt2+tPW2UcwPGe9vQCLZZyHWwgZQiyISyLuzBkKtmURDZGzEaWqMkwRk3UF2oyfaExajJjssQ3c9GE4BYT55YYHRkJUwmTxorbALmNCQztBsOWXoC2tJT2+Hbf/gPPi3N+7z7tOT0/nj7n9PdckPpdfYrugbCvmx+kTq9IcEjRw1ZrCA5Eo7CpKAf++K0z8OPNS7Dr8hx86uxX8LpvA1ayiuA1Xl5XYk7CkSTNv0aFoTWA6AREh2yWbXghVmCEL5y/CL+5/1E4niyDZ8aD8Nfvj8CO+tPwsVoeH596F754+ju4+UA5nFn4DFxk5OfpE1lwLBnn+zqVh9YAohMQHdKvE27UAe90fYMDnj35BNw47IT9i9lwJDhF5zwJ/zO4DBf1fgoXf/Ia3OTMhZdK/4YDwyvwS11X4M4jB+ACZzGs+h6gNYDoBESHHDKz9s+f6oB7zvGEKb8Vthu3w3lxft5j9lHYFb4Ge/b+B+9d/A3ut+2AfZMcOzgP83q7JJnnL/MZ0WpiHaH6HqA1gOgERIfc2TfMV16tBM1DfLu2PQH3KrOwc4W1+KprE3zbz9/xqrZ98I9BDxz38J43yflw7j1+h/HUInyoch3etJEBq74HaA0gOgHRIQ3eGcNY4PnPWZsbG4/C5eYIHLNWw7Yo77HCqB8eqTLAFQYvM0qrMwJ2B3w7MAgfieTBCSu/08Vvu+CPnvsQVn0P0BpAdAKiQ075OK+fOcPa2XyMdULeRgN8M8Tzp7NYB1QrHM/HbGuwJ8o6wZ7L68e903Cum9+ZtyQFN2e0wEoHr/fGK8xf9T1AawDRCYgOWTFz3rylthb2BHrghbS1wthTHK8bpvk7Hl7lPZj03Yc3LA/BO+fn4b/GWWfI3k7YunUn/MfkHfjFHRVwubMVVn0P0BpAdAKiQ7rq7sFYIMO0BQfMXGEtPnaUa3tzBj4zKkJcW9wyxGfMuSY7XGTjeD1Px2eCY4X7C2JzfKbkBMtgg4cTGDO3uLY4u8D5C9X3AK0BRCcgOuSYnvdcxNcLS63t8IXzHL8favseLoifgG80V8GOTM4XDAxchg+XbIPtm/nMyHf8AKeCfEa4+1g3ZBcch/Vj79E6lYfWAKITEB1Szy/9qAN8HjcOyK5jrb9/NgB/+TCfGYZE2ljBz9rbtYfzBVIW6477/jH4hMSNf7tHWTf8NDcAJ3/n+v9cmOsOgQrmr/oeoDWA6AREh+woYK2ek+SenlUv59y6Fd6jN/+0wJb6OrijeBd89yTH8xXtvMdTGZvh6rT89OYS+ODuNvjliS/g4w0cywyNXufn6VQeWgOITkB0yPp17p9PZPKAXIlrgRkm1tr7IjVwcIHnf3brbdjW/Dq8rZTrBrYQ80nOcm3RZ7kLx0L83d/ezQTmU3yGLY/+C6u+B2gNIDoB0SGndCa8YLLzf3JiBu7D897j3uCWYp7vy+S6QE78aTi8tRQ+c+oD2GmIwY31B+HSPWnzC17uOeqt4b7FuvGzcLGTe6BU3wO0BhCdgOiQrrtdmA+QjJx3j4Z5Ty6vjcOD57l2WNnwAvxIMff1JdPm+CyrnD+w2rnX16vjnqIJL/cR1sociyxH+bu/VFMI+69eglXfA7QGEJ2A6JBGbnTjGaAYOEdnTHAOL8+u8P1VDh7611lHZKXCcKHCOiJm5D2u03P8Llu43u8emoSbyrg/YMLmg6/9nLafwNjEy+lUHloDiE5AdPwPJqeD+F+OjiIAAAAASUVORK5CYII=\"></img></div></td></tr><tr><td>6</td><td><div><img src=\"data:image/png;base64,iVBORw0KGgoAAAANSUhEUgAAAEAAAABACAYAAACqaXHeAAAABHNCSVQICAgIfAhkiAAABRVJREFUeJzt2+tPW2UcwPFz6GnrsKW0tLACLbBB5CJMDXNuxWQaY9wScGxuU2c0UaeR+W688JUxy6ZRY1y8RJN5mTHuEt00MeJQLApDg2PAhoNxLbTl0haEQhmFFvCt3/0Dz4tzfu8+XXf225Pn+ntO5RPfnlyX/heBJQmRbamASzu+gf0VP8PjQTesHyuCry72wJHVBJzmKIZ9iSicW5wBrzojsBLGf0eq63HCeXt3wSmSykNrANEJiA7FY3oIH5yyNMFxN8dgLPIMfN70MJzwfwTX7jTBh65u4t/P4pxhNA7B0aU0/rkvD55zlcNb9vB5/vZpeHsiC1Z9D9AaQHQCokOJ2Hz4wNZ4Ai7KeA9ucH0BF7RyjvA8vhmebRiDvdkyvLdoGD5zKwAXWrfDof4O+Fn5AbjtSBd84OBLzCed+ai+B2gNIDoB0SFf7+7E5tk61YcvfOIPwRcH/4ArezmH+O3/wvudXKcnY2zzV++3w3XtYdjn4r7gnX1vw3EOacmuxOEPPzsHH64/DKu+B2gNIDoB0aEYeByX3viK6/wTO7bAOTaOsdiT+bDRmoRb/uGcsnXWAzdNdMK5fLz01It8/s3Bv+DSHiMcKsmBNymL8HT3WVj1PUBrANEJiA5lwTyHD9Z9nBQcRwrha2/9CMfunoBLjNlw1VoN3FL4C3xlkjXAyH7WC/xhzilllawvjM3egJP+FXhfPfchF5v9sOp7gNYAohMQHUpijjU3yZoJ3rSwxhasuAf+YZg1utqjr8Btb9bBR50b4JUqzjFn8tPh9SjPCqebdLAn6wJcflv+bQOsN7Qf475A9T1AawDRCYgOZc3AdVO3ngov9TTDqence587fhxeZRleWqj/ADa38zz/nZP1hMxjrNuvVB+EPa3vw115j8Gh++bhWNAClz3IOUX1PUBrANEJiA5F7wvig8Ay6/KuGMdY9W6u+/MB7sUn0gxww4V34aI47/dHZ7iuW1JZ1+9rfh125/K877H0w97uBVhy8f2GYMHnsOp7gNYAohMQHfJl72XcCzhMHEPB8QH4Uq8Vtudwb++wsr7w8dm/4XI39xHjyghsinJfYqzkum2JdMPbMngXGZYn4T4/56Sap1+GVd8DtAYQnYDoUPRpXIcjSY7Rvmsz8I6td8GruazRbZ5h/eD53Xy+38x9wGSc+4jgUDuctPK9P/dPy/BIDf9950gJ/EIZ7zUqilgvUH0P0BpAdAKiQ9HF+I7PfIQ1wtGhVXigmOf18gDv83ttd8Levk/hxW17YP1GPs9mqoLN09yXuHcxn65gPuy7xHqDa+o63BhlTVP1PUBrANEJiA75SlMjFtrY2hq/EHbAp1tOwgfu5ZgfddDRIPcNX+ra4OeqH4WnAzxLjIV49xhT9HCS5QDJGvod7qrk8x/xc85TfQ/QGkB0AqJDvtHWgDkgMsu9dcpGjpnOYb43aDfy/t57/mu4zMzzvTmT5/dAOvf6peU8O5zq50XD6BR/AyQV830GewfPAiYD57RCN+c01fcArQFEJyA65I4/f8UgDMu8W8u4pcBxhWNe2cAxZpjnGO6d4Fmha4H38+Fm1gx7cmJwZi/rEc41nudrd/I3S5HW7+HudDN86DX+HkL1PUBrANEJiA7Z2/ob5oCVJNd9V8wGr+tZZ4+kjcOGFc4ZUf60V0pxFcAZOn4hvnzbHDTPdTth4pxzRxZfLg4P8vcKYZnvB+h1fL7qe4DWAKITEB3/AV89jjb64NvlAAAAAElFTkSuQmCC\"></img></div></td></tr><tr><td>7</td><td><div><img src=\"data:image/png;base64,iVBORw0KGgoAAAANSUhEUgAAAEAAAABACAYAAACqaXHeAAAABHNCSVQICAgIfAhkiAAABRRJREFUeJztm91Pm2UUwN+3fSm0BdYP6FboCptbiYzwNYwgKolzkqgXJE4nRuPURI1RE+M0UbwwemFc4oXGaDS7URQT5xKSTV0mLjNj0zLC8GNQbOlqoBQoXwPK2+96ux//wHPxvufu9xTenp6ec57znPNUPnvubEG6Rcyl6q0oXc/Pk/+KgXt8ObDR1QrOzJrApwbPgV1jCjjn3QsubvoB3NjdBD4/uAQ+3Hon2Jv2gTc8BjBJg6IbQLQCokUpsiIFSM4NxrRPKgVfkVbAA79Mg/e4Q+C2O54F9xY2wGOf8vk7livAswfN4ODCOljJb4GdJQ5w1Jzm8xfKwZr3AN0AohUQLcpmhjGSStnA7//0Nrj5pQbwWPsBsHnaBT4z8A34ka5isLyeAm91MYckI0bwQnQc7O7kd5gsZV1gMe4AO7yrYM17gG4A0QqIFnn04p8oBHpfPYI/eO30M+AMjwrS5z/OgiO2EfBD6zK49hD34YKfdUG0kTkhZmcOcCzx/2tH+P5f/VEJdqWY417seweseQ/QDSBaAdGiHA/9jYVEdzd41+ou8JkgY2ppdAJcWp8Fbwbc4Mt1ZeAqO3NAucz+gDGSAU9/tAgOGOvA9xwroX5D18EJvxWseQ/QDSBaAdEiDwx/iTrg65M8X3c+zBhvSa6BZ1Z4/v5AvQJ+rL4L/J0xCO5urwKXrfD91fn/wFkLY9ySZc6p+p45Rz7IHqU7yP6H5j1AN4BoBUSL0n/1PBZ2S6yta9tZFyxOMQfc7mGP8GVlP/je6k5w9Q3GrN++LSa31QFKlv2F0s1tPcw864RBdRhcWPWAe+vm+H6SxkU3gGgFRIsyP85a3/Q89+W1WBxcWcY+fiDDPr3XUA0ORThLrFDZE8yF8+CyHBsOEyn28CqbWXeUX9sNluwdQJt5E3zxV+YszXuAbgDRCogWJdtiwUImz56c08eYMy1yFmgNch++NM19vqWOMZcwMCd0r3Dfv1AbAXckWFeok3z92wHmFHua/YblJOsAZY79Ac17gG4A0QqIFqUlOomFQtMD4OUw6wAleht4aHgA/EoLc4bfzfN/8TrvDJmLmCNaZ7iv/xtPgovSvC+ghJlDPt7Pnt+J2Bj4jc/4+TTvAboBRCsgWhTpiRosHArx/B2a4/k/PPEF2GHnA+Np3jHaZ+A+XZK7CrYaD4EDYT94+Abn+5ZyfmfeBif43Qr2MD1TrDsWJo+BNe8BugFEKyBa5KeOv4UmW3+A5/G+5+rBrhhzws+fcLaoNPCOzpaN/Yb2+2vB/jHO+ow+zh47JN4Z2nLwbFDs5Nll5PIFcI3zcXDPgbvAmvcA3QCiFRAtSpPlNyzEHu0FGxzsAao+nh0a+2+CC30vgJfGfwcv3s17ftdyfN6D7j1gv8rZ4H0qe4jj/gS42f4euH7nTnAyzh6m5j1AN4BoBUSL/OE/T6MOsIZZm3vT3GfnLIzBzBTn8SemT4Hra9gzXCtjbd6W4h2hmTbOAaIjvBfYILM/cKSdMZ8P8SxitrNHmUvxbKJ5D9ANIFoB0aJUjbJW9/gY80nDtru6i/w9QcTGGK5OXAIXhQ6DrZkAX6/heX7hJPnNrh6wzcOeXyZJ/Ux2xrhiYs5Sk/o9QYhuANEKiBbFVMKeoLrJGFyt5Hx9L0dtkuzkLO6o4XWwq4R3evZZnwT7Z5lDjjZwVnlz2x2gIpX7etbEuqHYzs+TjvPOUzw4BNa8B+gGEK2AaPkfioGI2+AEEu0AAAAASUVORK5CYII=\"></img></div></td></tr><tr><td>8</td><td><div><img src=\"data:image/png;base64,iVBORw0KGgoAAAANSUhEUgAAAEAAAABACAYAAACqaXHeAAAABHNCSVQICAgIfAhkiAAABRBJREFUeJztm9tPXFUUh+fAmQtw5gYdQCgjlBICFiKVaiy1Sk2tqcEqiUkfbPQJ2/pgjfpgNDEp0SdjY9UYjcZE660XNEUbkDuKNlSKFSk0LUOnzHCbYWYYLnNnfO3HP7Afzllv35kzM79Zs9fea629j3Tpl5607i5LKOG7UZfcSICN8WxwkS0HvL4UA6/IUXDhSgb4suEb8JlvF3j/jB287+Sr4IGffwc3P9UBHh0Ogt1LWWCqUaFpDhAtQLRJ7V0XMQfEEhJu0DvM4IxNc4IptAru/+ET8MdZc+CjjQ+B1+0HwNm6IXBvtwdcfngneCMJ+boCH/XEhm6ABx0OsOpHgOYA0QJEm5yQTLhgUfTgVCwTHDesgz/vbQVXPfo4+ODew2B/yABenj8P3prNGN7dXAcOx5gnzF1ljNustdTXEwKfeVvLA2CaA0QLEG3ShbZBLKQ2G2NwPVQCPv3RB+CXTznB1+OsBYYMpeA8B9f11eAdsM9qBe+MkF0jRrCybRkc7rgJ3q6wVrni5Zym+hGgOUC0ANEm9fR1Yg4Y857DDWc9jNHnnZ+CZdPf4PFCBezWTYEzk0lwwMt+QcDGGK/M4joej3Mddy9/BW7NPQXWZ1FP5hxrHdWPAM0BogWINnkjHceFJ5Wnwd+tHge3L70H1ueXghUus7qVOGOwbP0esKdgFlwZyQOHdCmwSR4H546VgXMObIAXEuwXOC1+sOpHgOYA0QJEm7waZIyFFfbh39z/ILh3kLl3n50xVvTZVXCimbn4VPED4IcVruvFU/y8ocBv4GQ5a5VAQzE4beCcYk3dC3bFtFoApjlAtADRJptSjHl95nVwZ2ARvFYbAdeXVIFnZPbwZJ8brIS4jrcn2YMsCa2Bw458sMnFfYqI9V/q2/oI2LHA75v0jIJVPwI0B4gWINqkkx8+i4XXvcj623i0ETwxxnW+yc8YnrFwndbFmGdEbnFvsKaKtUH/nmvgRa8XXL3oApvrWDvEHXx/Ksg5of5P5hWqHwGaA0QLEG1Sw6E8zAF7gszV61peB980ToNHF3gm51BFPTh7Ux5xOcWe3GxPNzhdyf8kbWUtUv0i9wZjHtb/kQ3WFq7b7Ek+ZqA+1Y8AzQGiBYg2OVa6DRfmBtiX9xay754/XQkOtdGHjSd4hsefx9w+unYavLqbPb3qxC1wTZznFtsGGPNKgOcW1wzscUoLrB1GtjAvUf0I0BwgWoBok+22vbgw3saYzf5vHvxEE3P9XXncR5jR8XyAL03ekXgBvGT8CSxV8Psnlpnbm8PM/ZM32OPbkcM5qMvL2qFjkv0B1Y8AzQGiBYg2eda/ggu+kVzwK2720E60Mrd+t8kCVjKLwEVmniEy8KiuLnWbMb9LeQb8a5TnE4Zd7EnaKqh/MoP/qbmf+xL6LQ1g1Y8AzQGiBYg26ce2NvQDCqM8w/OPcwI8tcKeof6ds+BrFfeD9+1/C9zx1xdgt5N5xZFAF9ha0wIucW6qDTpLwSPBr8HPNd4HtvRxn0H1I0BzgGgBok36vvsC5oBwWsYNWf4A+NzwRb4e2go+0nIQPOVjf6FwgnnFl6uDYEvOFfClPh/Y7mQM2+/w9doy6pn+g7/HY9L6ATDNAaIFiDbpfAfzgJCRzwUWJHnOL2pkT84StYFNKT5TFPEz5oIS9wl8g++DHeVc9zNk9iPmixnj2+18nuD4S2+Aa808Q3TstWP8fJ3KTXOAaAGi7X91Qp2KDAyNDQAAAABJRU5ErkJggg==\"></img></div></td></tr><tr><td>9</td><td><div><img src=\"data:image/png;base64,iVBORw0KGgoAAAANSUhEUgAAAEAAAABACAYAAACqaXHeAAAABHNCSVQICAgIfAhkiAAABO1JREFUeJztm81vG0UUwHftsbe24zhxHCdOartJpDSk0FKVtCoELiAQJ2gJB6583drCBaknhITEoRISioRKEXABChdAFUJKQiQUkIgKpdCmaorbtFJK7CZ26iTeXa/X6+Xan/+BOey+228te5+f5s37mDfq+3NfusoDUm6lH0Rl0g2Dq7F1sOF0gPfq3eDl4gp4194sOBttgh01Cv5b3Afnzctg03DAYTEC1tNxcMbsBAcUj4tvANkKyBbhOPTxcaGDCy1+wRHcIxQ3COzK9oCXStfB6ZANtsoh8JF4FdxdL4B/GSIXBybAx69wT+qrxsBD4TrY8yvAN4BsBWSL2Nimz3b13wNHrQa4lKSPldZS4MXFX8EjY4fB6a1d4E7nGhWq18ADqRw4HF4Az8+r4GKyBM7oe8Crrgb2/ArwDSBbAdki9h3YxgPHZVzu3mactyvMpS27DL4V4+/NFrinnHyMtcGldz4FH/34BPXRqc/i9zvg1/czr1g3+sGuYCKTaPh7AMQ3gGwFZItIbTGOh2v04VSC9XQkgPaBsm+GcXv+ha/AR3s+AH++8gN48MwU+OuzJ/n7b58Gb0Qz4GvNg+D+xl2wqkXAUWcN7PkV4BtAtgKyReg26++kxTjZKhvgleYmePm5P8FvPPkS+Js7H4FfO/w0eKjJWuPcv0nwe1Or4MmHD4CN7BbY1Zg3BJvsGeoBPw+A+AaQrYBsUb/7aQ6BPRCnTWzBejugFcEzC4+Dz8dPgV+dYJxu/EafncqNgQsZ5u5/nJkGv3vqefBy5hlwdY15S7LFHmdQscCeXwG+AWQrIFvUC7Oz2AOMCG2i7bD+d3MmePrqOfCh4afAmSx9snFzGBwN3QLnan3g3hTf79TZk9yIcU8KmgIcCTCPCa6z1vH8CvANIFsB2SJWm7RBn82zs4LDnp5WYD9gpdIL1h2eC6x1PQs+bTHOV7UucDPN+t1Q2PPb7K6Aa3X2JHNb7GEqiQRwp5N7kudXgG8A2QrIFnXu4gKcumKy3o9r9EEjRR91iqznT1z+HdyfZV4w+egkOFSZAQ/WHwJ37HAmKRhmXtDT4FljyLwBVtKcWUop/owQxDeAbAVkiygG2ddvOLTJlRpz61yIcfTqAH0waTL3tuOs/4u3OTP0YpV7yrf5v8ATFebu99xR8HA/fTxfoT4dNfYEN1LUx/MrwDeAbAVki2i1xc1cgj28O2ypKabNWsAoz4MHQ/TB/WX2/P7puQmejtDHmz9zdjgwwnmAgyHmBY7FfoLeYB4RaTv3SGv8Q55fAb4BZCsgW4SVYI/tRm0DPNp2HyDWR5/8Ypb1eauDcXYwxs8zcZ7v744wjrsh5gXrTEMUo3QJHE/uAZvxH8Fnr3Me4EjXm2DPrwDfALIVkC3iYmEADw7leR9Av/8fuLOtNrBmPgF/9soF8IrgzE4tyB6dsNkjdDvYI+xz+P3Q6Di4ofGsr6ny7PCuxrPF8SX2Hzy/AnwDyFZAtogx6zYe1Gz6eH438wBbpc99+BZnfUWbT2YM3tmpl+jzaowzO47FvEFtm0vUVfYozSo/b22zFqkvMS85/8QjYM+vAN8AshWQLSLXmceDwA7rca3tPsBmknFcjfJcwHbp80qmbd6gyjk+YfN9jTxrg9gm96iAxnuOwuH7tChnnzO9L4OPqf7ZIMQ3gGwFZMv/jxaEedKfWYUAAAAASUVORK5CYII=\"></img></div></td></tr><tr><td>10</td><td><div><img src=\"data:image/png;base64,iVBORw0KGgoAAAANSUhEUgAAAEAAAABACAYAAACqaXHeAAAABHNCSVQICAgIfAhkiAAABRpJREFUeJzt2+9PW1UYwPEWLqUtP9oyOqArtPwQKGPTKIFFmdS5jSibEYyJBt0bExcTjWh8scwsJi4GXeKMG0QxDmO2oC57QaKOTNmUDWULGyAMFTJoChs/2tJSSpGWlvp23/0D58W9z7vP7W17cnrOuc99zq16zn0jobov/Evh+6mada3BpnQNbE2S4OYvu+Cm+BCsevoh0FbE7zNvfwLOmLbA6uRSOJ6VCa+u++FUKRVOC/L8JJXMQ+kA0Q0QHdKyJ4QDqbE0OGDVw+XhHLjy3UPwnZetcP/1fJ7v+gWOhc2we5i/yenbUdg1cg8+2t0J2zQG2BzGEqea1WzCsh8BSgeIboDokII5uTiwORWAw5Zk+GrW7/Cbla/Dd4p2wrcHXuI3NrDP/zrLNeY5E+do9fIG376LczotMAUn8rLhd463w5tG5gWyHwFKB4hugOiQCvy8ro5Iw/Dg0ln4Wi9zf71xBxzRMvfvq30cLr6shZ2PuOGLt+7ClXrO+S51JbzT9Ss88OEi3FTOe4Mr8xmw7EeA0gGiGyA61MP9PkyyE+5GnNB3IwVuqnbAWa51OFG2HTYbJ+BolGtM4B5z98ZF1h+scz64fjwI73fUwS6/F/64uRne23ESlv0IUDpAdANEh/rTb1qxBngmeW8wam6DfZlN8O4B5u5dhj9gxxjzjBQn84gjFeVwzz/fwSe8rAFWbcRhi4s1RrOqCJ6c+A3epma9QvYjQOkA0Q0QHVKhV40DBifndGcH14Q32uzwj75JOLH4JKx5LQK/ePx7eObzQfhgkHnESQc/771Vfv+VStYcW5yc41LoVTi6wHsL2Y8ApQNEN0B0SAX1+3AgsM7cvjCZNbu7p27C2heYqx84x9z8FRNrcN0VNXCujvsMancHnGjm5x19nq8fbNgDT1RxDTBpmXfMrDMvkP0IUDpAdANEhxRcWMaBwPwP8LCV1/kymxN2jszCjgre/y/EOcdLd9jhm1/xeYLyLcz9V3p74Yf3PAVH6kyw1sd6gtHEesZGfj0s+xGgdIDoBogOqXArn/lJTDjhM+ms0w9cPAYPPcrc+ljoGfj9zmnY0XAYthSzjl+rK4PHk/m8QoeVa8LhGOd0oYl7g/EM1g8K9LTsR4DSAaIbIDqkZQv3ylKr7PBw6zxc1cjcvMZeAh84xLzBmc3nDc6Pc6/xbX01/NkDe4X5Gu7t1WvnYFs1c/9Flh9UOhXXuPWN/2DZjwClA0Q3QHSob83O4EK+v64WJ3zRfhnOT7kAh+auw74VfkG3h2vIvngVHB+9Cnt3fwJfunAGPtLyLGyt5TNJkTX+ppHoEhzzjsKyHwFKB4hugOhQf/AR9wbTa5h7J/n5HJ721DU4oySLr+t53T6fmw5XGLm/b1zhc4hTfdynuOT/F+4//Se8ZF6FY5tMBEJpOnhjkmuS7EeA0gGiGyA6pK2leThgHuB18udeF2wsZI1tZo1zcMzHfYSyB5Jzd7od7hnkf4ba29+C9yZY11+TeL4nwfv7Eg+fEepJpR+b5Zom+xGgdIDoBogOqdy2CweWcm3w31+3wIsLTPYz8jjHz7V+y9ejrNt7M7kP0dbeCus0rA+U6Xj/r4rzNzNEeL8/k8MaZd1YMd8ucU2R/QhQOkB0A0SHemj8J0was5//1fVr2UfBEP/Dozcwl1ctM5c3STw/ykeDVXFPDA7r+P7YFr5fE2Ddf5uda8q0h3lItoHPO1i8yv8GEUoHiG6A6Pgf3iuC2prDeBgAAAAASUVORK5CYII=\"></img></div></td></tr><tr><td>11</td><td><div><img src=\"data:image/png;base64,iVBORw0KGgoAAAANSUhEUgAAAEAAAABACAYAAACqaXHeAAAABHNCSVQICAgIfAhkiAAABQtJREFUeJzt291Pm1UcwPG2PNAW2tKWFkrZuqKAwBJEmBg22bI4oyCii9t0IXFeqFFj1HjhMhPjhTFqTLwwMdmShQslMbJkC9lmCIqbG3NFlkXwjfeXWhjQQgstfaWtt/v2HzgXz/O7+zw80B+Hc85zzu88qPv7+rKq+6Jn8Of7qXrng7fgH7xDcHhoAjbpl+GJlQSsrbgHn2xrhy1LO7BDs5+fP+2FnY0t8IbpKrzLfAB26yphjUrmoTSA6AREh6Tf1YoL/+58DffMnoP7Fwfhxi03fLK1Dj4aK4D/XjkEO36ZhjPpUjjQYYKfr+WYr7blwWcvbsM3E8zX9VgXLPseoDSA6AREh9rVvQ/rAK9Gwg22tn1w5aEKOLDqg42XVuE3vDO8vzkM16Xoi94nmGEyBLa+chz2zt2CreE52FX3OtxS5YJl3wOUBhCdgOiQkt56XHjw8QwczfwOT/fa4KePuGHbIT0cr+mAu6fHYU+gHN7TaIdbDM3wV6Pn6Sdr4Kko/6Y3Rn+CD+89Dcu+BygNIDoB0SE5j83jQsObH8N33j4LryyrYU8kAlc52aabNzfg3x4tg/fX87ksrRnh8bEx2D/NdUPwxF7YWVoLv6zj5/ty6hWy7wFKA4hOQHSoXxj+DHuBg1IRbtAbuU4Y/+J9WHeqAfbd5tp9fYZzhCZnzFc0HIRrYjF41JhTA7y2BM8a3HBXgRb2/MEa4emPvmQ+KpmH0gCiExAd6gt3BzEHXJ8N4oan7Ba4L/Ej7Gx6FnYtxGGpXAf7NwJwJsX6w8ObXCdcSXlga7wf1vxTAkf/S8HtXe/CTdYqfr9K5qE0gOgERIc0a1vABV3eCjxl4f7+odUoHBxj3b6wmjXBZJTrgmsa1gjLSrjuGMjy6/Zv1uFwyg831rOeUNnBdcfV69/BUvcpWPY9QGkA0QmIDunOwCQu1Bzgc9viyId7Q0nYnuyFZ6O74dDybbjQ1Qangpxj9tjNcLCH+/cz/d3wt1Xfw74Jfr159wXYkuLvJ/seoDSA6AREh2Tr5vl9fsgAZ+J87n5iLIZHhhbh4TKOscjh5/jzNJuwNsL9fSbJn185UQ1/nrgMF2tehVvq03BigDVEzXHuHWTfA5QGEJ2A6JA619y4cNcwBd8LcG+wZHbA86+xZuc5x7X9p6Ws+Y37OQeY3DwHqPyL+/nCfL7zY17iXmGyl2v/Ey91wjfSOXOaj/UK2fcApQFEJyA6pO1F7gXU0gI8qX8AXl3n/lyd5P5aV/QrXLXFdUYwzrX/zjLf85sJ8DnfaeEc0Wq6Ap9ZeA/+cIg1w/ZjR2HHDkqgSg9QGkB0AqJDPTp/CYPizz6+Zzdippse4bvFtVaeDe5kOObP3xqG9Rs8q1v18v8JDDa+h1g3x5rfMy8egcNWngVq87gXsFpog7YQln0PUBpAdAKiQz3sGcIcYCrkc1mVZU0wo+dzVJUz5ra1W7B/nmt7g90KSxLnDEOW5wymEM8hYga+oxTNsP5g4tJfFVTxrDO2znWF7HuA0gCiExAdkiGfYzId4RygLuYYzMQ4pjU2jlmtn/UAZwnbOJHlmNfm891kTYz79XSKc1AkzXVDkYH5eoOsAXrjfL/AlFbWAQilAUQnIDqkUB7HeNbEOcGRR29mOAY1GZ7/l5v5IPbFeX9BlnOIlOI5QLqAY3rJyP8l1ucsU1LzrAmmNjmnhEuZz1p0BJZ9D1AaQHQCouN/IUiFOpPqzzEAAAAASUVORK5CYII=\"></img></div></td></tr><tr><td>12</td><td><div><img src=\"data:image/png;base64,iVBORw0KGgoAAAANSUhEUgAAAEAAAABACAYAAACqaXHeAAAABHNCSVQICAgIfAhkiAAABQlJREFUeJztm9tPm2UYwL+2X098bVm78lFOhTFWQFi2dUyXSFwWdUs83Qwv0BgPF3rBjf+AGmM0Ji4mGmM0ce7GuXmhmHiaMiU4HNsUJoyBsA4YsJZDW3qihVJab/fjH3gvvu+5+5X2e588vM/zPof3M5y9eK4k3SfJuo77UUrlhsCVG2XghzeBUmE7DH7j51/BynwInNwTBE9tx8A1h6q4fnIV7Ox+HixfmAQHQgNg18svgo2SxkU3gGgFRIts8qv4wLl5DzyWos/blxEypFBnDbjvvV7wSeMa+PsT9PFc4G/wQ+VOsCtrAs9tOsDyd1yv1rYAPvjWZ+CJsSxY8ztAN4BoBUSLbC7Spy+X6LOdah3YUaRPjn79ObjUyMRgXTkGPtBYAZ7y8FyXI1HwpI3Ps8hp8F8FoGSOroNPftUP3t3uBWt+B+gGEK2AaJEHZrbxwUGvAXw5/AvYVlDAP+WYNxw71QKO5AbB1mQbOHA7AjYGbeDVa35wQZ0He0y14PzSIvjqqb3gH377kutJGhfdAKIVEC2GM8MjSATOz32ELwx6ee7uj9vB1lb6oP/jHDjxZh7s8vJcf3yRMWgjxxiQTN8A26+wP3D6wjS4+VHmLaUkY0I2swXW/A7QDSBaAdFiuDl+HTHglYF38IVlB/sBpVYP2J8tgr3uAFjxW8BqhPW6kmdMWKhgXlCM8u/pEPsPlkn2B6Llf5C3rOCezhfAmt8BugFEKyBa5N5F+tzS5izY23oYvJFaAVuUfeBoij2/4rgbnGTLT6p3sX53pHeDZxc5Z5g30ufbXvKBW04fB49XMYZ44g+ANb8DdAOIVkC0yHtqea72pHnuX8rTB1uOMCbMlreDS3PMtfPORvDq0n9g8zzXdxcmwM2h58AZI3P7tRRrk0h8GHy4pQsc87DnqPkdoBtAtAKiRXas82CesLI+dzbQxw+lUuB0egz8VPQIeJ95CXzVR5vX2zmHiFpeBfeX/gHbfBvgay72KzoajoKr7zAvUcPMCzS/A3QDiFZAtMgmO3N/T/o1sC/CefpMlnOC/Q08p39v/xd8RWEMqV5eBiv9/B+sBHmn58wcffbDSdYufTO8gxStewI8W2SPsqOTcwLN7wDdAKIVEC2yc4s9PTlGH7QqDeAHz7H+//b1BDi0ywU+vsge4LBcDh7vnuJ6KTN4ZIi/n89yNtnU/AHYm6CPz9x+n+uVJcGa3wG6AUQrIFoM50cuYS5QaWN9Pbfj3mBpgefu9Q365N7HeO/wVp6XeG5mafOyWfpktMBaw1TD/oSl0ARWJ5rB6dgX4ORSNX8/eBas+R2gG0C0AqJF9uU5jy8Z2Q9Q13guO13PgoeYmktSmPf+dqms130S84Z1F2NGs8L7BuYS6/kqB2sTu5kxa4ZjAenpHf2Lu8FusOZ3gG4A0QqIFrmQYc9OMXHWZqkhF+7ynl6gng/8c4L1t1rHc7v2FvOI6RBnjbajzBvc7hPgcJx5QaKad4Gnf5TBPa094MYce5Ca3wG6AUQrIFpkp5t3aAox+nCR1/wku4XnbluYNsxffBfcVfE2n296ks9XmWfcGGUe8s0oY4b5mUfA9f2cPd7r4ztI7k7qJ1v09wUgugFEKyBa5K0y1gK5GNmg8p6fPcagUHWA7xco7Z+AMwnGlHg5bW5fYR7SFOQ535XiXOHTXs4K71Sylgg2sSeYT2TAVv+O9xMkjYtuANEKiJb/AWkPizlULurTAAAAAElFTkSuQmCC\"></img></div></td></tr><tr><td>13</td><td><div><img src=\"data:image/png;base64,iVBORw0KGgoAAAANSUhEUgAAAEAAAABACAYAAACqaXHeAAAABHNCSVQICAgIfAhkiAAABR9JREFUeJzt2/tPU2cYwPGeUqDc5GYBBQQpks0MBSZk0SHxwpxkbJlMHctwyZxm0eg23caymc2ZLTExuhCdm4tTNBqN0wWnDrkMNSAYgnKRFgsOyq3jTilttZTCfvXrP/D+cM7z26d52z48vOec91ap2XRrVvVMTHQ8fpYq29MROLesFU5PmIbjDEGwak0K2HvtEjw+iK9XRSWmwRt2ZMINRw/C6i4LbAlbCxf9sh42dcbx/SqZh1IA0QmIDo3TocULg6E2+HhrJdxfkA836ubAZQv9Yb++UnhZYTask5bCxeU34CW6lfBf0g/wRzc3wl98Vw7vqgqF86zMT/Y9QCmA6AREh3SrrgkP4mlnExq01j2Am+82wvqMV+EbqQPw7oRUuEXicz/N/SIcPbUAtlna4J8qiuBK+224IPtdeF/ENvjA0UJY9j1AKYDoBESH1NhmxEXp7fRCA9NQJ1xy8AgcuV0Pdz6kk7VlcNYbn8CxUzFwjacPDnWEwU59MNxR2g4bVJPwxzEO+Ee1GZZ9D1AKIDoB0SE9aqrDPWDc04sGZhPHztZpjhPezORYPGvHMXjR4vlwQLgOzp3ifD46h5/XHz4Fl/VMwF5VDXD+On7fH49AVcYCrl/IvgcoBRCdgOjQuG1jeGF+YwW8ubwf3n/6c9jiuA/v0o/Dxvt/w0dW5cDvdD+FM+uZ4N3WK/Dw5HL41M418L6L9+CI8AD47GnOZWTfA5QCiE5AdEhdrdcxDhjzfoIGh+9wLP9aylvwikRew0NGjr2j53E9oPYa7wmVM3xQW0c59o/f8jY8UXwOthk5F1i580P4969/pc+dh2XfA5QCiE5AdGhGfaL4wowVXm/hWHx5EvcNvq28DB/auBU+u/d7OCYvFk7S5sEXOrrhEYMP2w/Gw4VbOA7Yc/I4XPTVYTgkjOMC2fcApQCiExAdUouxnvsCA9wrbJ7tgc2WM3BvKdcQV4RyL664n2t0hVvfg1siOHavGeGaot8wzwcs8fjx81Zz/eLPC/z+36q/hE+d/AaWfQ9QCiA6AdGhmRznXp1vJK/pqGk+t+32JLhBx73AS4Z4uFDngjuO3YTjD/A53uvm9we9fJX5tI/Cn+1xw7EZL8Gz9sWwe4jtZd8DlAKITkB0aBbEcf7dN9EF+6s5LvDScV1fGuQ+waehXLc3jbPGEUES31/P9YNVCTzXd+gK2+sDOb935KyGEx9zTdO8jWeaagx1sOx7gFIA0QmIDsnYyzNCvi6e+3MFOmFfO8cNbdZ58AnDJth7mmd/U4cj4ey0hfD1et5Tqi/WwtvPp8N37nEfwrf2FTh40zJY538bln0PUAogOgHRoZlx8Tns9ITAPnbuE3imOR8/UcJze8He/Dy9ewhu25wIDz3kXGEynWuCupJm+Mxz94BkLyM8N4VrmFmxXE/wTPJcoux7gFIA0QmIDqnd/AAPdo/VgwbhARq+Q825w89WM9xZwrF6kplzi8jX98Ixc/kbnrqe3bAlmnMLbQXXGD94fz8seb8Az/HMwP9pec5Q9j1AKYDoBESHxtbPvTd1IBuMjrFGdi3n57nDfG4PDvI3Qbb8RXBVRxU84JMANy3lef7Gf0rgtd0m2N/JNb+QYP4Bruf+x3FWjmtk3wOUAohOQHRoXCEc2/toOd93zHCsPubmNR/my/MF0jreIy5f5W9926p5DcamcG/PreZcItnIvUn/gg2wKpK/VTY/4ftH/uVZZHeIsi+AUAogOgHR8T8Hrp8RUlB9vgAAAABJRU5ErkJggg==\"></img></div></td></tr><tr><td>14</td><td><div><img src=\"data:image/png;base64,iVBORw0KGgoAAAANSUhEUgAAAEAAAABACAYAAACqaXHeAAAABHNCSVQICAgIfAhkiAAABQxJREFUeJztm91Pm2UUwPu2D12/aSEVcMAYsHaDAhPJwOGWjEUhMSSbiFMXDNmF4WZ3osmSZdELvVGXyBI0arzQqTEL02XZomjimKAw2RAn2kFlMBhQaMtXaQu0eLsf/8Bz8b7n7vd+np6e53nOc855lf7ugS3dI5Im0h5F3Tsffwi+nhoD12Qq4NKee+DK+hXwiZY3wec6vgWX542C7SkreDCWIgdM4PNtXeAlPVAngtRv22n1iWYA2QrIFrGUvooD03d/B4cLroJP1x4Bx412sLF+Hjy48Dw40nkZnJ1aAFvsRXx+YRi8OxIHLw1ZwCnB68MpMzgjsgRWvQdoBpCtgGwRrlg6DmTs3w/OjR4GvxDOBKeKhsH967ngdYXnfy7jmK1e4H/gKl4DXx9ZBvtW94DHc6PgUD7HuDLKOORm7iRY9R6gGUC2ArJF6e7uw17g1LstuOBYWyu4yfYNeGbHbrDezTF7OZ4E/7QxBT70MAEO/RIEH8h3gccmoK4ubS/jApP1ALj2qUPgrs4B6qtTuWgGkK2AbBFpVq6bb1RngX9t/g/8+c1NcIWV62pszgEOhwvArXmnwGW3Z8BfBq+BB0pivP5lrvuekBtcU8U54OylH8CN+U+AVe8BmgFkKyBbhMnAA5f+Zs6sofs2+KC9Ajw1zge4XeNgyxbX8bohjuH+3Ai4KtkPjka4t3hxkvfPW5kzvDfxPbjVuBNsnaB+qvcAzQCyFZAtYkvhGPQE88BlBu6/e/yM5Z1pjMVD44zVK8oKwb3jH4AzDzOuMPg84JcGGGeMeKvAvlH+h0k/54TeVdY5ksEJsOo9QDOAbAVki4jGc3Bg2cYxk3rInGDl+lfgawmu8z478wMjs91gZR/nlIUp1hG8G6z9dY4J3v/H0+C6VtYV/A7WFm8NMCeZZ94HVr0HaAaQrYBsETMJ1gbLj3I//+PIRXDYy+vbd9aB70ywnyArh89bMznBW47HwU6FdQrHrmfApbPN4I8ungVfGSkF56wwbmn+7FWw6j1AM4BsBWSL0ttzg8H7JvH979rBRu+T4L1LQ+CAgf0Fz3qywdnF5eDQyiw4K8F+g7kU6wxr/0yDlUkbeH5xEWxvZF3A6zwIVr0HaAaQrYBsERt61uYSgmPqwYoRXOBkrN6XxXp+058cc0EH1+VogLH6jgTjgLmtObB7krH+2Cb3+/H0derzG/sXGo6wTjAktP4AiGYA2QrIFqFEOOZ1To7p7FnG8mYf9+9/6cn3g5wzpgavgFvc9eBzfp5vq2R+4YGVfYNJPeMUJXUX3PjaGXBg8A64oeUYWPUeoBlAtgKyRRjNrLXpYhxjLj3nhMR5Xl9z0gc2zXFOsYSYA+wz8/nNtfxe4L37J8F1t/h+71o+OBphnFF2hu+zu0vAjhDnKNV7gGYA2QrIFrG2voEDBtdjYP80a385xYy1MxLcnw972Of3nPE0+NN/3wa7/azXd5R8AbbsYVxw42oHuPoEa4V6E/UtUljnCJvYc6R6D9AMIFsB2SKEk3n+zTD7+W1O9gCVVnAd1n3N+5N57DG6EPwEfLywEmysYm0yIpgj3Iiz3//C8CD4raZicNY8+w1MFuYU46v8Par3AM0AshWQLUpfbxe/HbbxOzvrtu/0XnmddYLAIr8d9pjYYxTb1jdYdHwXuL2WtbpNwfsNgjnB6DLjApuLdYRQgP0E+WbmK1a29TKr3gM0A8hWQLb8D1sBgwdBN2f6AAAAAElFTkSuQmCC\"></img></div></td></tr><tr><td>15</td><td><div><img src=\"data:image/png;base64,iVBORw0KGgoAAAANSUhEUgAAAEAAAABACAYAAACqaXHeAAAABHNCSVQICAgIfAhkiAAABRVJREFUeJzt291Pk1ccwPGn9cHy1soKAuNlylsVUAluMHUI2USMFxgV5+K24MiyXRjdQrbEZONiLBOzeMnFFnTLtmyORNkgA9woKLCAA5QXgRpB3guBUmjlTVpK2a1f/oFz8Ty/u4996vPL4ZzznOd3TjXmvroN6YXQjge8SOmWpQ3Wt/0B66TT8KDzPmwL2gbnnz4Pd/W6Ya2uCo4YWIbrc2vhg9qb8IVYHTysew6HrvrxfpLCQ20A0QmIDk23uQdzwNLsAi6YrSmGM7fo4Ztp78EBMsfgf55m2Fbnhdd6huC81MPwocJq2Nt4HK5LMMCpMigFJUTATrcRVnwPUBtAdAKiQ97gkJUMY6WwyT8cNq77w/Ez43CljmNczylAWo3wgfP/vQTf/OovuKE+Gy5M4vfPm6J4/x+nmZ/BFzaEMh/F9wC1AUQnIDrktTmuladdZ+GHngo4OTcTtvw6yO/b+e5QkpoBXzcxAR9LJ5wX8QZcW9EEvzaFZYtUWNIOp/3+BaybeASHLCXDiu8BagOITkB0yCF6Pie/674Gx2XNw6Et78PbTvXCF1JK4PKqHl7/9Bncv8HnustnEt5fGgQX/MQx3RDGz1M7PLAuheuEGT9+rvgeoDaA6AREh+a34st4sMZmHsEFdkcwrOupgWt+4XPcGueCHbNb4HdT1nl91m54uXfTHOB7Ap44xDlkeJTrgslOM/zh0YtwZAznPMX3ALUBRCcgOjT3hjowiPzsHMNFZWWwIecd2Gv+Af7skzz4SmElnFmcD/eV34OHK/+Bz2QnwRXrXXBOIvM53Mh6wJ2VB/Dxq9/Ciu8BagOITkB0aCxNdzEHTLpZ06sebIBtr2pgc/NW+PX6x7DDy+e+62Ub7HZGwzuTs2Cni3uD61bOEefW5uDIk7vgWzYWAaN3qPsCCLUBRCcgOmSrP+v8AUur8PidYXjyCcd03CPuJV5c435/ayDHfPPyErz3SAj8oJY1xg0Hn+Nhkedge//PcJdpBq57wjnp0wNHYcX3ALUBRCcgOmTJn2NUNzMFn/myCG76ugBem3kFbo5+CXZ1sua3cJJtfrubn+/N5f830sX397czWOMbDeS6ofoG3y0++IbnCfIMtOJ7gNoAohMQHbKfhzW7Wc8Y7J3nu8FuE88DlBpZk9NHJcLBmemwX9oonDGSA48NlPP7by7CNg/X/o8nNs1ZZzftLd5ohPPf4t6m4nuA2gCiExAdcuwiz9m1pHOtbTXT0vY0sOBUPdzWvwNejB+F9wcd4PWxdXCUg7dbnOfBv+lu7g1aA3jIKWmZc4IhgXNcmItnnhTfA9QGEJ2A6JAHJO79mZ7zPECVdQKe13MOCF7ZAx9M4BgL1/JMTvlDrjMSJdYjEsPj4al11hsiPmdNck8HDyIOj3IO+j6Je4MrXtYLFN8D1AYQnYDokI0bHGMOie/fzuxjcHg6x2Dcn5dhV3gCbB/nfn7wdtbl3RLv3/eUNcl2I98FontWaAt/v9DbyvMKHx/j7xlmtdwnUHwPUBtAdAKiQ37mE8h/CeGYnbjWCkd07oRbNHw/X7gUA7uvc62+MMQx77vEv8E+nzA4pZVnmdf2Ofl9Pa+3G/k7RVm76XoP1z2K7wFqA4hOQHRo2u8Poahn9XKtrh3hWv3v21fgEx+xBjdy9S5s2cr3+V1zkXBXGJ/rbt9Nv+2N4f0t4y3w/DRrkmVF/J2jbxTPPAW7uRep+B6gNoDoBETH/2VhjpykSv+bAAAAAElFTkSuQmCC\"></img></div></td></tr><tr><td>16</td><td><div><img src=\"data:image/png;base64,iVBORw0KGgoAAAANSUhEUgAAAEAAAABACAYAAACqaXHeAAAABHNCSVQICAgIfAhkiAAABR1JREFUeJzt2+tTlFUcwHGWfdhll+W24uJykVXkloikAuooGo6N4whOozWhVtbYdBlqynpRWXQBy9Gcyl5UMzXmi5JxylFTJhTlKsksGEwEokC7wS43lwUWXNhlobd++wfOi+f5vfs8LPDjzDnnOed3Dqp2a+NC0EMxOO9+mEGacRWsNUfAFyq+httH/oZ7R0PgXNtaOD5PD1fUnocTVUbY/0gUPOzug/c9XwwXpe2Co6QJODhI5qE0gOgERIeq7u5tzAEB1318wKTmGP6kvAT25B6EizdKcLv2Gmxs489v1ofCWbeGYPUMv5759ldwqgcMsnutcIgjBh4c1sKy7wFKA4hOQHRIPp8NDyZm+Z73BehIcx7sXtQKl7bxvfx+vgUus2bDL+4Ih2sjOWbVA5xDwq0c43HLNjI/bRw8l0InpY/Dsu8BSgOITkB0SP6ZWDywNv9GGwfgoaxb8HzGDnjpL2Nwd9J62HvvS/hYrAbOm+IcUXbqVXh87AGse8C9i1PDvUW4xg8HhS0GZd8DlAYQnYDoUHX/w3rAocOH8QH1EQe8PjsFdjRwXZC4ZQ3c9E0XHOjjWv/lgpXwv51OuKOyGi4+cww2jE3BUfMGeNyng3URs7Dse4DSAKITEB2S+q4ND9yPcgyZ27h2XhjkGFqR1w4vd62C7c498IGUCng0vBDuH/0VTsvYD/9+4Dt438lDsMvVC8+bLbBumHOG7HuA0gCiExAdUmi0DQ+27mRNzzGfCd9eOQpvtybAUQ7W8GLiz8Bnk/fC6sHTcOf/6hEmI+v4/vc45m3SHBwRsgKOm/LBdnsjLPseoDSA6AREh1Q1mYMHhnDW9B6LnYGtHfFwc9UgbNrEdULRHp7tWVouwZdjeZan1rLeMPzUbrj+4gm4eFMB7DeNwEdvVMG6Sy2w7HuA0gCiExAd0sS2ejzQ9/DsLuAOgzVGG2x6zgTX99bBOc5pWKelsy1X4KO6YXi1bwO8V58I/9hdBtv7OSeV5rJeoZ94A5Z9D1AaQHQCokP18+kC1ASHErkusI9w7T+ZzP1/yAmO0VnpDhz8EueUgvubYeOcDR5PKYf3f/4TvLaA+33zTe4djj99BK5318Il1TxXkH0PUBpAdAKiQzJGfogHeQ6+hz+6yrr+7g+4n/9iVw3c1/IC/MzF4/CqqCy4YskknN7D+wDlr+fDJ0tPwdvmeA9waJp7F8MG1gcKPX/Csu8BSgOITkB0qK5VtGIdYDbZ8IG/nKwJVrpuwvk752HvEGuCfg/vBv9w5Ry8PYF3kd0G7uejl0TDcZHcC3Skcm+hP3sDvhN8D35N9yQs+x6gNIDoBESH5DKwRlZ9rgcei6R90XzPBip5x6iug3X3zHc6YaOG9YNlGt4nUH/PvUBohho+b+NewB3Jy8LPWrhOebeYd5CuN5lh2fcApQFEJyA6pNRQjsmRPI75tMxk+PK3PDdoWmAbzlRzTvijkHd7k3ysDwwM8b0/GcN1weZ1r/D3e3nPsGTL43B/lw2+Wsl1gnkr/17Z9wClAUQnIDqkaT3P19elWeAuK8/qzJnL4YbPeGfnzU8Pwo01HHPWRfyfnaXprDlOaHhPsFXFO0rRzm54TTDniKIczkHOSdYbAk1cF8i+BygNIDoB0aGqra9BPSDYwDtC2ikvPDPCGqFnljW2C40NcH8ux+jiLNYcO6uvw6t7eb/f6uXZ5MdPvAUnxPL+f2gY54xZD78/TMW9jOx7gNIAohMQHf8BenuL+37QDcEAAAAASUVORK5CYII=\"></img></div></td></tr><tr><td>17</td><td><div><img src=\"data:image/png;base64,iVBORw0KGgoAAAANSUhEUgAAAEAAAABACAYAAACqaXHeAAAABHNCSVQICAgIfAhkiAAABQNJREFUeJztm8lvm1UQwP3Zn+3Y8RqTxLWzNGuzUroXtVQsTQRUpUINinrhUkVCPSDEASlXJCSE4AASUm+ViqAChIADa6GhJAVTSpMQkmaPXSdx3MSOdzv1xrW//APv8H1z+9nvsyeTmffmzYyloat/lDWPSLB+8lHUnDKVwIuBFNj+9z1wWBMDy4UMOGOMgE2eg+C6XBO4s/0E+JPgA7Dr5iz4zfeeBffYD4Gj2jxYq1G4qAYQrYBokS5cm8AesPqUHQuOLG+C29xZsNd6BPzTLcZ4qewH319YATvtXL+/hjF/88qn4OQhPfhck4XfL8+Dm3SPgz/uewGseA9QDSBaAdEiV2TW8YIjpwPfCRTB6SYjeLbIPWKxFAL3f/UR+MLgMPi7savgz2fm+P3NAfArXQPgd+5wTxm4eBF8cot7zNC1z8CK9wDVAKIVEC3S0Ph/yANiRgdXGJJA7TyWa/xp5gUD5Qo+npsCjwUk8FrIAC6ZvwVH63gXqZXdYGd/D7g4aQY/6bGBfTPTYMV7gGoA0QqIFrnXwdx/aYUxMtVQB9bbmCfU7LA+cGPSB7aWGOP6VhM4ufkj+EBxD9h1kuwbuQ2unnCB8+5TYP8c7wbddv69ivcA1QCiFRAt0lxwHQd73sBz9+3f/GCjkzW5ZQvzBvfoBji1zXPZ2cE8YnKDNUhHVRh8efASP6+CNb1313jOx7VRcGeEeYP/7gRY8R6gGkC0AqJFtroYk+shxlhvcwF8z8/6Qb62AVxOM8aszz0Pjlcyb7BMj4IT3afB738TBM93WMH1VaxXNEb5Py0muaf0tHWAFe8BqgFEKyBapFH/AjaBRGYcC4IFnqNjrofg0pYTnNGyfqALM/feqmX9QC6wPtAibYFjBca8bJHB8TTvKraKHXA2xD2ir6YZrHgPUA0gWgHRIluSjKl0wAu27WsDtwSWwKFd9QB382PgsIZ5hibJ3l5Fbhscc/P5dIR9gbK5C9y0wPrAnoP7wKZm1hMaS1yveA9QDSBaAdEiGyy7Xqlnja2UT4Pve/hAr8Sa35YhB65mm0CTXSXvOKrBlX4uSBqYJ5hus37Qpuf6w+Yz/Hwd84DrWc4MKd4DVAOIVkC0SKuhGA7qqel/sWB6lDx7vg9cbWDuntFWglN63g3Mv86A21wHwCPtzBNiu+YQPU8fA9tucZ7AEP8H/MT5c+DgOPsaivcA1QCiFRAtUjgawR7wwZUfuOLoIDC0wxgzH+fMkG6eMWyV2BfI1LE32CrznN5eZW9yOc08IOutB+eSnEVueci8pDedADurOsGK9wDVAKIVEC2Sf515gPYBe39pL2tsf6W6wYaNr8F6N2dzD5dawW/43gJ3FXgX2JQ415eVeZ/X7O8HlvS8e7iirE/oatm7fE1W8wCIagDRCogWuZBirl7TwHNUDpPD0x+Czz5TBb6bWAOPLN4AH/OxnrD3eDv4Z90C2FJmX2LKwrtHg5F7jMHE918qs74RT3C2WfEeoBpAtAKiRZoLsjeo0zB3rkzxXF2zx8Ermx7wxJd/gm0neI7//gXr8mfreRfQDLMv4FnjXWQ4zNljT4Yx35jnjJPNdx186fXLYMV7gGoA0QqIFqm4EcAe8Mv3/J2e58xRsMPE3/ZaEuzfby7zfl5yc8ZoaYYxHFjkzNHLr74IjhmZp3gjjPFEkXOBixHmGd5W7kHG7Rqw4j1ANYBoBUTL/3Tsk7q4pv8hAAAAAElFTkSuQmCC\"></img></div></td></tr><tr><td>18</td><td><div><img src=\"data:image/png;base64,iVBORw0KGgoAAAANSUhEUgAAAEAAAABACAYAAACqaXHeAAAABHNCSVQICAgIfAhkiAAABQdJREFUeJzt2+tPm1UcwPGWPi20lNIWaIdchE2nC26DRWAXszcwJZsgCRFvI/GSYLxMt6FTyNR5iw5d5kATnXGbURPmjJepCS9AxcmcKBWGu+gcDBDawbj0TsvT1rf77h84L57n9+7zQNofP845Pbdqv+3uSWiuCs/05NXUuP78AbbL6bC5rhL+pf0duDztClzb9BE8HsHba4oCM/ClsBaO2VNgUzwVTvf4YG3OAixrjXCSRuGhFkB0AqJD29vLMUDWs0/FwotwKMA+e8jVDm/a8jb82Y+3w0VnroOrtEWwp7oEXlO8FJaD5mvyY59e8AdgU3QajloyYMW3ALUAohMQHdIVjQUPLMYwnBLn53AkSYJ9S9bCgzv3wI21H8LPbhiEn954NzzsPgNPXhyD58I5sN3BfLJ8nMeMO+bhTGsmrPgWoBZAdAKiQ4rJnDsn5GTYYOLnZjR4Dt6xyg5n31ANj7ELapYeiMPHwuzzW241wAuJNFjvtMHWBPu8L535LjE4YfOiDlZ8C1ALIDoB0SHZk614YNZwbh3XcYxwJi2HLbEQPK3h72dl5cJyyj64al0pHDCZ4EiUa5NsC/uwKXwj/O/gN3BRCecphgjHOMW3ALUAohMQHZJdZg08yVz/Z7i5FjjQegSeqXHAz1evh1ua3oAL7JdhY5B93p19zfp9jnP3F9pehHPsXMu8su4eeC7Ev0eS/LDiW4BaANEJiA7JmxrDg9n/+LnbL78P73rgLviQiTU83NgMv75nL/3p1/Co/y94okeG861r4E0TG2B/fgV8tG0nvPaRl2GDk2OC4luAWgDRCYgOyaTjntrQz61w7p1cTx/4bQD2uiNwc/Nu2CKzz22rr4I7/t4O31LWCI+N8Bzik/EuuLh0JexM5piRauPaIaHl/1zxLUAtgOgERIc06eP5vau7F46eZx/cfEcDfH1pAeyPcEzxZvA83xHkmLGv/F34vuOcN+St4DnA2LYPYNsXF2Fr2gicmcb9iGCcm5SKbwFqAUQnIDqkTBv7bMUO9kFrLtfv2sXV8KxlFj7c0gIXVt4Pl1u559g/0gnHZ87DxkzeJ1g58SWcEuCe5LKSm+FAjHeOQiHuNyi+BagFEJ2A6JDSpzjXr1vOc4LN7/XDe7cXwkkpvIe3uqEJbj/CPl66/1F4QM+5+qWzdG0D5xG2iRp43HYaLqvgGKDXcYzQezmmKL4FqAUQnYDokEJJvFd3ctgLm3x98HzHMrip81X4qdb98MGfHoOf2cq7xCOjLvil2l3w0cf5+s3PbYWH/Jyn2ALFcNzEcwBzOtciim8BagFEJyA6tKd6OrHg/2qSY0KWjecEc37OpTXzn4Pmyif545ELsOsC5x01Z4/Dgao2uPtgHRzP4d1hqYwu7OOY8PCD9cxP5rxC8S1ALYDoBESHdujXcxgDpn1cP1uyef6+EAzCUojr+9O2f+CIm3twcQ/P/qYCnFecGvgDrl+RB7tOdsB9E3y91teegJMNzM9oVMcAhFoA0QmIDsmo0+OB3s4+G7vM9Xmqnn1IF3XDObEsuCv8O7zqJn7nZ2OYe5IORwGc+P4YXFrOe34ZXVOwIT8fXvRGma+W76f4FqAWQHQCokOaio/igU3mvcBFJ8cIKcL9ggUd5/ZJHs4D1utvg7/7+AQ8nMa1x70P8Z7fWyfYp/P6+fuVu9+EDQH+3BLgd6D8Tn4fQfEtQC2A6AREx/+mB30OeNVTGwAAAABJRU5ErkJggg==\"></img></div></td></tr><tr><td>19</td><td><div><img src=\"data:image/png;base64,iVBORw0KGgoAAAANSUhEUgAAAEAAAABACAYAAACqaXHeAAAABHNCSVQICAgIfAhkiAAABRVJREFUeJzt29tPm2UcwPEe3h4ohxYKha7QMQ5DDnMbwShsRrMwNHHGaGZGnIsHdkHi4oXGuMQYZ+aFFzovjBfbhQZMFp1Tg4dM54SZxeE2B0Q5CHQMKKWUlxZK1wMtbb3dl3/guXjf393nJbQ/Hp736fP7vU+1PcO/ZDX3hS66cD81l3sn4KdOPAeXTujhgH0N9htX4bSuGo7JX8CnQ3a48+If8GtvvQFrk1Z4IbUOS5ki2pmAdRqFhzoAohMQHdLumBEXxoyPwJmls7B17RX484nTsGPqOjziy4d17bxnSx1H4PcaV+B51zJ88cvb8BMvPQZXWIrhYDoJh1b5/oqfAeoAiE5AdEhBSwYXDEYZ9poscGZjFo43H4KHdaWw/Shf3xzg5/JIivf0rMw14N6x/XBj7w74q18/gjub2uC1HU1wSd4crPgZoA6A6AREhxSNG3BhNsu9snaTe3fTHtYGwTM/wCXPdMEp7T142HQXLtM/DhcUoDTRhPWjsKeD+R4znIJnJr6Bz4W4Rnxa+Qms+BmgDoDoBESHtBHmPZVZD8OLLQ/DPeYB2FnLfkDS7YddCyF4tYC1x1peCTydneHrR1phd2YJ/vj3C3Bn+79wl/QB/M71M7DiZ4A6AKITEB2SI8oemnn7JvyQ1gYXvx2Evy5zwvtn8uBYZSEcHFmEvfoheLfOzPczc01ZLWctsff5Kb6+fydcXsdapCZbDit+BqgDIDoB0SGFcnlBr+U9c7yZ9/C3rSfhV4u4j0ikWc9XL/NzeSaf+wKnZhu8VMCEQutcc+zVrBWCKzE4d+wO7EuMwTEj+wOKnwHqAIhOQHRIkUL2ySOGOFxnZl//gJH9gnEvnwWuurgPiFp2wd0Bjvlv29JwUzn3JRoje4DRTdYqlgR/PmjiGtCYx32Dpq0OVPwMUAdAdAKiQ5rWsz4f6ufzfLmNn9ueP/mcoCyfPT/ZuuVZoMz6/dJgH5w/yn3HURd7ip85vLBBnofDqQD8/p434WwJ+w0d2VvMT6PwUAdAdAKiQ2rI3cCFyppK+FKSZ3SWp7hmyA6e6bFtWRP+usrzAjk32T8YO9sOf2hh7WFNsjYIVETgF29yzTKkeB7AeOUyfHyFf4/iZ4A6AKITEB1S3h0PLqy7TLA5VgFPPqiFux1R2BPjXrz+0ANwbyP3Bc/Osh8QruKzQ/kGe4TxLf2Gu0XsGdbEUnDO3ifhE3MuWPEzQB0A0QmIDslvr8KFnDTrfYeV93Ci/2X4SsM+vuDBSjj3e/b0Th7hGuKJsx8QjeTA7gruO5qL+H5OuwNOynyuIYdYS/yY4Jqn+BmgDoDoBESH9lzfCBvtLtb/6STr9dD8P/CF+b/htRres9oIf7/CK8HeBX4uJ+r4/u+2cg3aVeiD41H+3GzlGaZskGecfhrgmSbFzwB1AEQnIDq0390exhqQ9bHHlnFzidBx66+x2din923ynm/08eywvojn/897+uH1loNwRynPEhfPFMC3Qqz/HTr2G+Ij/A7UNXs3rPgZoA6A6AREhzQd4uduk5v1dHaZz/9thdzbBzPsu/83xHu2T3MNXsrwuUHXvsPwqZ95DrG25Wl4fPQqXH2gAd4wsjaYq5qFl8+/Dit+BqgDIDoB0SHtvMFzepO13DvXVbMnF5C4RthN/I6RaTvPDtdL/M5Pk599/fIwnwMcrn0UHhzugV+w8H+2uOSGa5ysVbyT9bBhYBxW/AxQB0B0AqLjf+9yik9MoREFAAAAAElFTkSuQmCC\"></img></div></td></tr><tr><td colspan=\"2\"><i>(12 more)</i></td></tr></tbody></table><style>\r\n",
       ".dni-code-hint {\r\n",
       "    font-style: italic;\r\n",
       "    overflow: hidden;\r\n",
       "    white-space: nowrap;\r\n",
       "}\r\n",
       ".dni-treeview {\r\n",
       "    white-space: nowrap;\r\n",
       "}\r\n",
       ".dni-treeview td {\r\n",
       "    vertical-align: top;\r\n",
       "    text-align: start;\r\n",
       "}\r\n",
       "details.dni-treeview {\r\n",
       "    padding-left: 1em;\r\n",
       "}\r\n",
       "table td {\r\n",
       "    text-align: start;\r\n",
       "}\r\n",
       "table tr { \r\n",
       "    vertical-align: top; \r\n",
       "    margin: 0em 0px;\r\n",
       "}\r\n",
       "table tr td pre \r\n",
       "{ \r\n",
       "    vertical-align: top !important; \r\n",
       "    margin: 0em 0px !important;\r\n",
       "} \r\n",
       "table th {\r\n",
       "    text-align: start;\r\n",
       "}\r\n",
       "</style>"
      ]
     },
     "metadata": {},
     "output_type": "display_data"
    }
   ],
   "source": [
    "// torchvision.io.write_image()\n",
    "let results = plot_sample(intermediate_ddpm)\n",
    "results |> Array.map (fun result ->    \n",
    "    let scaledImageInfo = SKImageInfo(64, 64, SKColorType.Bgra8888, SKAlphaType.Unpremul)\n",
    "    result.Resize(scaledImageInfo, SKFilterQuality.None))"
   ]
  }
 ],
 "metadata": {
  "language_info": {
   "name": "python"
  },
  "orig_nbformat": 4
 },
 "nbformat": 4,
 "nbformat_minor": 2
}
